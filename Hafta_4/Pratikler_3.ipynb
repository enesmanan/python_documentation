{
 "cells": [
  {
   "cell_type": "markdown",
   "id": "d316ef29-1a7d-4396-8500-d9f882a2fe4d",
   "metadata": {},
   "source": [
    "### 1 ile 100 arasındaki tüm sayıları ekrana bastıran program\n",
    "Problem açıklaması: 1 ile 100 arasındaki tüm sayıları (100 de dahil) ekrana yan yana bastıran programı kodlayınız."
   ]
  },
  {
   "cell_type": "code",
   "execution_count": null,
   "id": "eaf07492-1f13-405e-bff0-1d6487438498",
   "metadata": {},
   "outputs": [],
   "source": [
    "for i in range(1,101): # range fonksiyonu son sayıyı dahil etmediği için aralığı 101 olarak genişlettik\n",
    "        print(i, end = \" \") # end parametresi yan yana basılmasını sağlar "
   ]
  },
  {
   "cell_type": "markdown",
   "id": "5c799f7d-8d40-421e-86dd-4aa04dc78084",
   "metadata": {},
   "source": [
    "### 1 ile 100 arasındaki çift sayıları ekrana bastıran program\n",
    "Problem açıklması: 1 ile 100 arasındaki çift sayıları ekrana bastıran programı yazınız."
   ]
  },
  {
   "cell_type": "code",
   "execution_count": null,
   "id": "b6ee8532-f58e-4fb7-bc79-eb9fa73f0ab6",
   "metadata": {},
   "outputs": [],
   "source": [
    "for i in range(1,100):\n",
    "    if (i % 2 == 0):\n",
    "        print(i, end = \" \")"
   ]
  },
  {
   "cell_type": "code",
   "execution_count": null,
   "id": "d5779a21-93cd-412c-8379-c62602de8a43",
   "metadata": {},
   "outputs": [],
   "source": [
    "# range fonksiyonu ile problemin çözümü\n",
    "for i in range(2, 100, 2):\n",
    "    print(i, end = \" \")"
   ]
  },
  {
   "cell_type": "markdown",
   "id": "b45859c4-01cf-42d4-86bb-986f976e2cf5",
   "metadata": {},
   "source": [
    "### 1 ile 100 arasındaki tek sayıları ekrana bastıran program\n",
    "Problem açıklaması: 1 ile 100 arasındaki tek sayıları ekrana bastıran programı yazınız."
   ]
  },
  {
   "cell_type": "code",
   "execution_count": null,
   "id": "3ff43104-df59-4ef0-aba2-ae27f0b91506",
   "metadata": {},
   "outputs": [],
   "source": [
    "for i in range(1,100):\n",
    "    if not (i % 2 == 0):\n",
    "        print(i, end = \" \")"
   ]
  },
  {
   "cell_type": "code",
   "execution_count": null,
   "id": "2bbde427-196b-4062-873f-f527ed63fb2d",
   "metadata": {},
   "outputs": [],
   "source": [
    "# range fonksiyonu ile problemin çözümü\n",
    "for i in range(1, 100, 2):\n",
    "    print(i, end = \" \")"
   ]
  },
  {
   "cell_type": "markdown",
   "id": "f00b73a7-e86b-4efe-82a6-dddf777662f6",
   "metadata": {},
   "source": [
    "### Girilen sayıya kadar olan sayıları ekrana bastıran program\n",
    "Problem açıklaması: Klavyeden girilen sayıya kadar olan sayıları ekrana bastıran programı kodlayınız. \n",
    "\n",
    "Not: Girilen sayı da dahil.\n"
   ]
  },
  {
   "cell_type": "code",
   "execution_count": null,
   "id": "ff77b68e-900c-4957-95b0-e0564414cc29",
   "metadata": {},
   "outputs": [],
   "source": [
    "sayi = int(input(\"Bir sayı giriniz: \"))\n",
    "for i in range(1, sayi+1):\n",
    "    print(i)"
   ]
  },
  {
   "cell_type": "markdown",
   "id": "110afc77-6bcb-4da7-bc3b-1898a3e955fb",
   "metadata": {},
   "source": [
    "### 1 ile 100 arasındaki 3'e ve 5'e tam bölünen sayıları ekrana bastıran program\n",
    "Problem açıklaması: 1 ile 100 arasındaki 3'e ve 5'e tam bölünen sayıları ekrana bastıran programı kodlayınız."
   ]
  },
  {
   "cell_type": "code",
   "execution_count": null,
   "id": "1c80af9d-0f22-4eb5-b808-7fa76896ca57",
   "metadata": {},
   "outputs": [],
   "source": [
    "for i in range(1,100):\n",
    "    if (i % 3 == 0) and (i % 5 == 0):\n",
    "        print(i)"
   ]
  },
  {
   "cell_type": "markdown",
   "id": "7ac27849-fc41-486b-ac89-0739d381f2e0",
   "metadata": {},
   "source": [
    "### İki sayı arasındaki sayıların toplamını bulan program\n",
    "Problem açıklaması: Klavyeden girilen iki sayı arasındaki sayıların toplamını ekrana bastıran programı kodlayınız."
   ]
  },
  {
   "cell_type": "code",
   "execution_count": null,
   "id": "ff5619c8-7aad-4199-86da-57e0975f34f8",
   "metadata": {},
   "outputs": [],
   "source": [
    "toplam = 0\n",
    "sayi1 = int(input(\"1. sayıyı giriniz: \"))\n",
    "sayi2 = int(input(\"2. sayıyı giriniz: \"))\n",
    "for i in range(sayi1+1, sayi2):\n",
    "    toplam += i # toplam = toplam + i\n",
    "    \n",
    "print(\"{} ile {} arasındaki sayıların toplamı : {}\".format(sayi1,sayi2,toplam))"
   ]
  },
  {
   "cell_type": "markdown",
   "id": "f257b715-0890-481e-9c78-966bcaab95ee",
   "metadata": {},
   "source": [
    "### Girilen sayının asal olup olmadığını kontrol eden program\n",
    "Problem açıklaması: Klavyeden alınan bir sayının asal olup olmadığını bulan ve bunu ekrana asaldır veya asal değildir şeklinde döndüren programı kodlaynız.\n",
    "\n",
    "Not: Birden ve kendisinden başka sayıya bölünmeyen sayılara asal sayı denir."
   ]
  },
  {
   "cell_type": "code",
   "execution_count": null,
   "id": "cb29fca7-6220-496a-95c5-d9f506d2b4d1",
   "metadata": {},
   "outputs": [],
   "source": [
    "t = 0 \n",
    "sayi = int(input(\"Bir sayi giriniz: \"))\n",
    "for i in range (1, sayi+1,):\n",
    "    if (sayi % i == 0):\n",
    "        t = t + 1\n",
    "if (t == 2): # t değişkeninin değeri iki ise sayı yalnızca kendisine ve 1'e bölünebiliyor demektir\n",
    "    print(sayi,\"bir asal sayıdır.\")\n",
    "else:\n",
    "    print(sayi, \"bir asal sayi değildir.\")"
   ]
  },
  {
   "cell_type": "code",
   "execution_count": null,
   "id": "46191469-ac25-4d45-a8e8-8fb665473bc6",
   "metadata": {},
   "outputs": [],
   "source": [
    "# while döngüsü ile asal sayı kontrolü\n",
    "p = 0\n",
    "sayi = int(input(\"Bir sayi giriniz:\"))\n",
    "i = 2\n",
    "while (i <= sayi / 2):\n",
    "    if (sayi % i == 0):\n",
    "        p = 1\n",
    "        break\n",
    "    i += 1\n",
    "if (sayi == 1):\n",
    "    print(\"1 asal sayı değildir.\")\n",
    "elif (p == 0):\n",
    "    print(sayi,\"bir asal sayıdır.\")\n",
    "elif (p == 1):\n",
    "    print(sayi, \"bir asal sayi değildir.\")"
   ]
  },
  {
   "cell_type": "markdown",
   "id": "b2a7b19e-cb7c-45d5-ad24-26db3b7c3449",
   "metadata": {},
   "source": [
    "### Girilen sayının rakamlarını toplayan program\n",
    "Problem açıklaması: Klavyeden girilen bir sayınının rakamlarının toplamını bulan ve ekrana bastıran programı kodlayınız."
   ]
  },
  {
   "cell_type": "code",
   "execution_count": null,
   "id": "e8321e56-1a83-44b5-9205-df2d1185c725",
   "metadata": {},
   "outputs": [],
   "source": [
    "sayi = str(input(\"Bir sayı giriniz: \")) # sayıyı string olarak alıyoruz çünkü integer veri tipi python'da iterable (yinelenebilir) değil\n",
    "toplam = 0\n",
    "for i in sayi:\n",
    "      toplam += int(i) # burada matematiksel işlem yapabilmek için integer veri tipine çeviriyoruz\n",
    "print(\"Sayının rakamları toplamı: \" ,toplam)"
   ]
  },
  {
   "cell_type": "markdown",
   "id": "4ff03d7b-a466-4d40-8268-6c409145deb2",
   "metadata": {},
   "source": [
    "### Girilen sayının rakamlarını çarpan program\n",
    "Problem açıklaması: Klavyeden girilen sayının rakamlarını çarpan ve sonucu ekrana bastıran programı kodlayınız.\n",
    "\n",
    "Not: 0 rakamını hariç tutun."
   ]
  },
  {
   "cell_type": "code",
   "execution_count": null,
   "id": "4196a522-f852-4ffc-91a6-0c003a21d3bb",
   "metadata": {},
   "outputs": [],
   "source": [
    "sayi = str(input(\"Bir sayı giriniz: \"))\n",
    "carpim = 1\n",
    "for i in sayi:\n",
    "    if (int(i) != 0):\n",
    "        carpim *= int(i)\n",
    "print(\"Sayının rakamları çarpımı: \", carpim)"
   ]
  },
  {
   "cell_type": "markdown",
   "id": "7b4c9f8a-bba3-4e79-a5e4-df895201201b",
   "metadata": {},
   "source": [
    "### Sonuz döngü ile girilen sayıların toplamını bulan program\n",
    "Problem açıklaması: Klavyeden girilen sayıların toplamını bulan programı kodlayınız. \n",
    "\n",
    "Not: Programı sonsuz döngü yapısı ile kodlayacağımız için döngünün bir yerde kırılması ve programın bitmesi gerekli. Döngüyü kırmak için yani programdan çıkmak için 0 tuşlansın."
   ]
  },
  {
   "cell_type": "code",
   "execution_count": null,
   "id": "e13e54be-faea-4c25-80a5-c62269b43aa9",
   "metadata": {},
   "outputs": [],
   "source": [
    "toplam = 0\n",
    "while True:\n",
    "    sayi = float(input(\"Bir sayı giriniz: \"))\n",
    "    if (sayi == 0):\n",
    "        break\n",
    "    toplam += sayi\n",
    "print(\"Girilen sayıların toplamı: \", toplam)"
   ]
  },
  {
   "cell_type": "markdown",
   "id": "fb856ec2-c29d-4136-a49b-df4c5ef721f5",
   "metadata": {},
   "source": [
    "### Girilen sayıların geometrik ortalamasını hesaplayan program\n",
    "Problem açıklaması: Klavyeden 0 değeri girilene kadar, girilen tüm sayıların geometrik ortalamalarını hesaplayan ve ekrana bastıran program."
   ]
  },
  {
   "cell_type": "code",
   "execution_count": null,
   "id": "c1eac394-da61-42fe-a5dd-20a120deca81",
   "metadata": {},
   "outputs": [],
   "source": [
    "# N adet sayinin geometrik ortalaması bu sayilarin çarpiminin, N. kokune eşittir.\n",
    "# Sayilar = x ve sayi adedi (terim sayisi) = N\n",
    "import math\n",
    "ort, n, sayi = 1.0, 0, 0\n",
    "while True:\n",
    "    sayi = int(input(\"Bir sayi giriniz, cıkmak icin 0 giriniz:\"))\n",
    "    if (sayi != 0):\n",
    "        ort *= sayi\n",
    "        n = n + 1\n",
    "    else:\n",
    "        break  \n",
    "ort = math.pow(ort, 1.0/float(n))\n",
    "print(\"Geometrik Ortalama = \", ort)"
   ]
  },
  {
   "cell_type": "markdown",
   "id": "8d8bb166-6883-48a3-85c4-8264e2ac4af9",
   "metadata": {},
   "source": [
    "### Girilen sayıların harmonik ortalamasını hesaplayan program\n",
    "Problem acıklması: Klavyeden 0 degeri girilene kadar, girilen tüm sayıların harmonik ortalamalarını hesaplayan ve ekrana bastıran program."
   ]
  },
  {
   "cell_type": "code",
   "execution_count": null,
   "id": "6b00b850-5fc2-4de3-a9f8-ecfb74883fb5",
   "metadata": {},
   "outputs": [],
   "source": [
    "import math\n",
    "ort, sayi, n = 0.0, 0.0, 0\n",
    "while True:\n",
    "    sayi = float(input(\"Bir sayi giriniz, cikmak icin 0 giriniz:\"))\n",
    "    if (sayi != 0):\n",
    "        ort += 1.0 / sayi\n",
    "        n = n + 1\n",
    "    else:\n",
    "        break\n",
    "ort = float(n) / ort\n",
    "print(\"Harmonik ortalama: \", ort)"
   ]
  },
  {
   "cell_type": "markdown",
   "id": "1196df91-5aa7-483d-81f4-191802445034",
   "metadata": {},
   "source": [
    "### Girilen sayıların bölümünden kalanları hesaplayan program\n",
    "Problem acıklmasi: Klavyeden 0 değeri girilene kadar, ikili gruplar halinde sayilar alan ve ilk sayının ikinci sayıya bölümünden kalanını hesaplayan program."
   ]
  },
  {
   "cell_type": "code",
   "execution_count": null,
   "id": "bb14b223-8f01-4681-b22c-c267295d9ff6",
   "metadata": {},
   "outputs": [],
   "source": [
    "while True:\n",
    "    a = int(input(\"Modu alınacak sayıyı (a) giriniz, çıkmak için 0 giriniz: \"))\n",
    "    \n",
    "    if (a== 0):\n",
    "        print(\"0 sayısı girildi ve programdan çıkıldı.\")\n",
    "        break\n",
    "        \n",
    "    b = int(input(\"Hangi modun alınacağını (b) giriniz: \"))\n",
    "    print(a, \"Mod\", b, \"=\", a%b)"
   ]
  },
  {
   "cell_type": "markdown",
   "id": "c51bd002-82c2-44c3-87b9-e84a8533236a",
   "metadata": {},
   "source": [
    "### İki sayı arasındaki sayıları belirli bir adım miktarına göre toplama\n",
    "Problem açıklaması: Klavyeden başlangıç, bitiş ve adım miktarı sayıları alınacaktır. Başlangıç ve bitiş değerlerinin arasında kalan sayılar adım miktarına uygun şekilde toplanarak ekrana bastırılacaktır. Programı kodlayınız."
   ]
  },
  {
   "cell_type": "code",
   "execution_count": null,
   "id": "8b7cd56a-5312-4c23-866e-45dc53e49c1d",
   "metadata": {},
   "outputs": [],
   "source": [
    "baslangic, bitis, adim, toplam = 0, 0, 0, 0\n",
    "\n",
    "baslangic = int(input(\"Lutfen baslangic degerini giriniz: \"))\n",
    "bitis = int(input(\"Lutfen bitis degerini giriniz: \"))\n",
    "adim = int(input(\"Lutfen adim degerini giriniz: \"))\n",
    "\n",
    "for i in range(baslangic, bitis+1, adim): # range fonksiyonu alt siniri hesaplamaya katmaz o yuzden +1 ekledik.\n",
    "     toplam += i\n",
    "print(\"Toplam\", toplam)"
   ]
  },
  {
   "cell_type": "markdown",
   "id": "f2473284-3c2b-4cc7-9a3e-0db36e5772eb",
   "metadata": {},
   "source": [
    "### Döngü ile bir sayının belirli bir üssünü hesaplama\n",
    "Problem açıklaması: Klavyeden alınacak taban ve üs küvvetini değerlerine göre üs alma işlemini gerçekleştirip sonucu ekrana bastıran program."
   ]
  },
  {
   "cell_type": "code",
   "execution_count": null,
   "id": "75d914e9-f28c-4a97-9a13-24468287264d",
   "metadata": {},
   "outputs": [],
   "source": [
    "sonuc = 1\n",
    "taban = int(input(\"Üssü alınacak sayıyı (taban) giriniz: \"))\n",
    "kuvvet = int(input(\"Üs kuvvetini (kuvvet) giriniz: \"))\n",
    "for i in range(kuvvet): # 0'dan başlayıp kuvvet değerinin 1 eksiğine kadar gider\n",
    "    sonuc *= taban # sonuc = taban * sonuc\n",
    "print(\"Sonuç: \", sonuc)"
   ]
  },
  {
   "cell_type": "markdown",
   "id": "1329c2c1-e418-4fd5-b471-7f796a207362",
   "metadata": {},
   "source": [
    "### Döngü ile Fibonacci serisi oluşturan program\n",
    "Problem açıklaması: Klavyeden alınan n sayısına göre Fibonacci sayi serisinin ilk n terimini ekrana yazdıran programı yazınız."
   ]
  },
  {
   "cell_type": "code",
   "execution_count": null,
   "id": "db28ceed-1614-4250-9c50-105743fe47af",
   "metadata": {},
   "outputs": [],
   "source": [
    "#Fibonacci serisi; ilk iki terimi 1 olan ve sonraki tum terimleri, kendinden onceki iki terimin toplami olan sayi serisidir.\n",
    "T1, T2 = 1, 1 \n",
    "n = int(input(\"Terim sayisi (n) giriniz: \"))\n",
    "print(T1, T2, end = \" \")\n",
    "\n",
    "for i in range(1, n-1):\n",
    "    T3 = T1 + T2\n",
    "    print(T3, end = \" \")\n",
    "    T1 = T2\n",
    "    T2 = T3"
   ]
  },
  {
   "cell_type": "markdown",
   "id": "d1dc80ce-d0ef-45ad-b9a4-835571ef7900",
   "metadata": {},
   "source": [
    "### Sayı tahmin oyunu\n",
    "#### Oyunun amacı\n",
    "+ Program, açıldığında 1 ile 50 arasında sayı üretsin ve bu sayı n değişkenine atansın.\n",
    "+ Kullanıcının 5 hakkı olsun. Bu nedenle hak adında bir değişken tanımlansın ve ilk değeri 5 yapılsın.\n",
    "+ Bir döngü açılsın ve sayi adında tanımlanmış bir değişkenin değeri klavyeden okunsun. Eğer n sayısı girilen sayıdan büyük ise kulllanıcıya \"Sayiyi Yukselt\" şeklinde bir yazı, küçük ise \"Sayiyi Kucult\" şeklinde bir yazı gösterilsin ve sayı bilinmediği için hak değişkeninin değeri bir küçültülsün. Ancak girilen sayı, üretilmiş olan n sayısına eşit ise ekrana \"Tebrikler\" şeklinde bir yazı gösterilerek oyun bitirilsin.\n",
    "+ Eğer kullanıcı sahip olduğu 5 hak ile n sayısını tahmin edemediyse ekrana \"Kaybettin\" şeklinde bir yazı gösterilsin ve oyun bitirilsin."
   ]
  },
  {
   "cell_type": "code",
   "execution_count": null,
   "id": "dd009f12-0a5f-4be2-9a58-a9e6372a814d",
   "metadata": {},
   "outputs": [],
   "source": [
    "from random import randint # random kütüphanesinden randint fonksiyonunu çağırdık\n",
    "hak, sayi = 5, 0\n",
    "n = randint(1,50) # 1 ile 50 arasında (50 dahil) sayı ürettirdik\n",
    "\n",
    "while True:\n",
    "    if (hak > 0):\n",
    "        sayi = int(input(\"Sayıyı giriniz: \"))\n",
    "    else:\n",
    "        print(\"Kaybettin! Sayı : {}\".format(n))\n",
    "        break\n",
    "    if (sayi != n):\n",
    "        hak -= 1\n",
    "        if (sayi > n):\n",
    "            print(\"Sayıyı küçült, kalan tahmin hakkınız : {}\".format(hak))\n",
    "        else:\n",
    "            print(\"Sayıyı yükselt, kalan tahmin hakkınız : {}\".format(hak))\n",
    "    else:\n",
    "        print(\"Tebrikler!\")\n",
    "        break"
   ]
  },
  {
   "cell_type": "markdown",
   "id": "bdf24a73-174a-40bf-8291-d67700c61794",
   "metadata": {},
   "source": [
    "### Fermat sayı formu\n",
    "#### Fermat sayı nedir?\n",
    "17.yüzyılda yaşamış Pierre de Fermat adlı ünlü matematikçi tarafından ortaya atılmış bir formdur. 0 ve 0'dan büyük tüm sayılar için uygulanmaya çalışılan bu form sonucunda çıkan sayılara Fermat Sayılar nedir. Hipoteze göre bu formun sonucunda çıkacak olan tüm sayılar bir asal sayıdır.\n",
    "\n",
    "Ancak n=5 değeri için elde edilen Fermat sayısı bir asal sayı değildir. Günümüz şartlarında en son n=11 değeri için Fermat sayısı hesaplanmıştır. Nitekim n>11 değerleri için aşırı büyük sayılar elde edildiği için bu sayıların asallık kontrolleri henüz yapılamamıştır.\n",
    "\n",
    "Fermat sayılar, yandaki formda yazılabilen sayılardır. --->       $2^{2n}+1$\n",
    "\n",
    "Problem açıklaması: Yukarıda verilen form ile bir Fermat sayısının hesaplanması mümkündür. Ancak girilen n değerine göre elde edilen sonuçlar aşırı büyük olduğu ve programlanmada bu değerleri taşıyabilecek veri tipleri olmadığı için bu örnekte 0 ile 4 arasında toplamda 5 adet Fermat sayısı hesaplanıp ekrana yazdırılacaktır."
   ]
  },
  {
   "cell_type": "code",
   "execution_count": null,
   "id": "22cb18ba-fc3b-4d2f-94be-81a1ef8b9cc2",
   "metadata": {},
   "outputs": [],
   "source": [
    "import math\n",
    "for n in range(0,5):\n",
    "    fermat = math.pow(2, math.pow(2, n)) + 1\n",
    "    print(\"n = \", n, \"\\t\", fermat)"
   ]
  },
  {
   "cell_type": "markdown",
   "id": "54dc9891-c285-4808-a1b8-599cbfe3777e",
   "metadata": {},
   "source": [
    "### Armstrong sayısı bulma\n",
    "#### Armstrong sayısı nedir?\n",
    "Armstrong sayısı, sayının rakamlarının küpleri toplamı sayıya eşit ise Armstrong sayısı olur.\n",
    "\n",
    "Problem açıklaması: Klavyeden girilen sayının Armstrong sayısı olup olmadığını bulan programı kodlayınız."
   ]
  },
  {
   "cell_type": "code",
   "execution_count": null,
   "id": "ef4c6a62-1631-470a-9f92-018d7bcedee5",
   "metadata": {},
   "outputs": [],
   "source": [
    "sayi = int(input(\"Bir sayı giriniz: \"))\n",
    "temp = sayi\n",
    "toplam = 0\n",
    "\n",
    "while (temp != 0):\n",
    "    deger = temp % 10\n",
    "    toplam += deger**3\n",
    "    temp = temp//10\n",
    "    \n",
    "if (toplam == sayi):\n",
    "    print(sayi, \" Armstrong sayısıdır.\")\n",
    "else:\n",
    "    print(sayi, \" Armstrong sayısı değildir.\")"
   ]
  },
  {
   "cell_type": "markdown",
   "id": "5bea9c8f-18ee-4ad0-8cf3-813572f1af36",
   "metadata": {},
   "source": [
    "### Klavyeden alınan sayıları bir listeye aktaran program\n",
    "Problem açıklaması: Klavyeden alınacak 10 adet sayıyı, daha önce tanımlanmış olan bir listeye aktaran programı yazınız."
   ]
  },
  {
   "cell_type": "code",
   "execution_count": null,
   "id": "40f1cfbf-040e-43ab-8d2b-0a66b09f0d1b",
   "metadata": {},
   "outputs": [],
   "source": [
    "liste = []\n",
    "sayac = 0\n",
    "while (sayac < 10):\n",
    "    sayi = int(input(\"Listeye aktarılacak sayı giriniz: \"))\n",
    "    liste.append(sayi)\n",
    "    sayac = sayac + 1\n",
    "    \n",
    "print(\"Liste = \", liste)"
   ]
  },
  {
   "cell_type": "markdown",
   "id": "44b924d8-2162-4c1f-96b7-bbbf5dde1acf",
   "metadata": {},
   "source": [
    "### Bir listenin tüm elemanları ekrana yazdırma\n",
    "Problem açıklaması: Tanımlanmış ve içi dolu alarak varsayılan bir listenin tüm elemanlarına ulaşan ve ekrana yazdıran programı yazınız."
   ]
  },
  {
   "cell_type": "code",
   "execution_count": null,
   "id": "cdb8b40f-8b4a-4aa7-aec7-a62541d05dc9",
   "metadata": {},
   "outputs": [],
   "source": [
    "liste = [\"EFM\",10,56,12,3.54,5,8.33,1,True,[1,2,3],74,[2,12.4,\"elma\",[\"ayva\",55,19]],6,11,89]\n",
    "sayac = 0\n",
    "for eleman in liste:\n",
    "    sayac = sayac + 1\n",
    "    print(\"{}. elamanin degeri: \".format(sayac),eleman)"
   ]
  },
  {
   "cell_type": "markdown",
   "id": "cb166d96-324a-4f9d-b840-0d866f166b6d",
   "metadata": {},
   "source": [
    "### Bir listedeki iki elamanın yerini değiştiren program\n",
    "Problem açıklaması: Bir listede, klavyeden alınan index numaralarına karşlık gelen sayıların yerlerini değiştiren ve listenin son halini ekrena yazdıran programı yazınız."
   ]
  },
  {
   "cell_type": "code",
   "execution_count": null,
   "id": "99aad290-2062-4608-b2a8-ce6307939652",
   "metadata": {},
   "outputs": [],
   "source": [
    "liste = [1,2,3,4,5,6,7,8,9]\n",
    "a = int(input(\"Birinci index (a) giriniz: \"))\n",
    "b = int(input(\"Ikinci index (b) giriniz: \"))\n",
    "\n",
    "temp = liste[a]\n",
    "liste[a] = liste[b]\n",
    "liste[b] = temp\n",
    "\n",
    "for i in range(0, len(liste)):\n",
    "    print(liste[i], end = \" \")"
   ]
  },
  {
   "cell_type": "markdown",
   "id": "0091598e-a894-45d1-b98c-3be95c0e245a",
   "metadata": {},
   "source": [
    "### Bir liste içerisinde arama yapan program\n",
    "Problem açıklaması: Klavyeden alınan sayının, listede var olup olmadığını kontrol eden ve bu durumu ekrana yazdıran programı yazınız."
   ]
  },
  {
   "cell_type": "code",
   "execution_count": null,
   "id": "f91650ba-c98e-4759-90c2-19cf9741a7f0",
   "metadata": {},
   "outputs": [],
   "source": [
    "liste = [1,2,3,4,5,6,7,8,9,10]\n",
    "ara, yer = -1, -1\n",
    "ara = int(input(\"Aramak istedğiniz sayıyı giriniz: \"))\n",
    "for i in range(0, len(liste)):\n",
    "    if (liste[i] == ara):\n",
    "        yer = i\n",
    "        break\n",
    "        \n",
    "if (yer != -1):\n",
    "    print(\"Aranılan eleman bulundu index numarası: \", yer)\n",
    "else:\n",
    "    print(\"Aralınan eleman bulunamadı.\")"
   ]
  },
  {
   "cell_type": "markdown",
   "id": "bb1ea81e-ff32-4db1-b246-3a668987611b",
   "metadata": {},
   "source": [
    "### Bir listenin en büyük ve en küçük elemanını bulma\n",
    "Problem açıklaması: İçerisinde tam sayılar olan bir listenin en büyük ve en küçük elemanını bulan ve ekrena  yazdıran programı kodlayınız."
   ]
  },
  {
   "cell_type": "code",
   "execution_count": null,
   "id": "9af6ac00-a6c7-4d24-9efb-631b0f260cf4",
   "metadata": {},
   "outputs": [],
   "source": [
    "liste = [1,2,3,4,5,6,7,8,9,10]\n",
    "kucuk = liste[0]\n",
    "buyuk = liste[0]\n",
    "for i in range(0, len(liste)):\n",
    "    if (liste[i] < kucuk):\n",
    "        kucuk = liste[i]\n",
    "    if (liste[i] > buyuk):\n",
    "        buyuk = liste[i]\n",
    "        \n",
    "print(\"En küçük değer: \", kucuk)\n",
    "print(\"En büyük değer: \", buyuk)"
   ]
  },
  {
   "cell_type": "markdown",
   "id": "cbbd8907-172c-4a06-a1fb-95e3a30f5b9d",
   "metadata": {},
   "source": [
    "### Bir listeyi rastgele sayılarla doldurma\n",
    "Problem açıklaması: Klavyeden girilen eleman sayısına göre bir liste oluşturan ve bu listenin tüm elemanlarını rastgele sayılarla dolduran programı kodlayınız."
   ]
  },
  {
   "cell_type": "code",
   "execution_count": null,
   "id": "e6aba35c-7890-4e12-8cfd-dec350c4c8a3",
   "metadata": {},
   "outputs": [],
   "source": [
    "import random\n",
    "n = int(input(\"Eleman sayisi (n) giriniz: \"))\n",
    "\n",
    "sayilar = []\n",
    "\n",
    "for i in range(n):\n",
    "    sayilar.append(random.randint(0,100))\n",
    "    \n",
    "for i in range(0, n):\n",
    "    print(sayilar[i], end = \" \")"
   ]
  },
  {
   "cell_type": "markdown",
   "id": "a3af5d6f-db45-42b9-a00e-c4e12d044f98",
   "metadata": {},
   "source": [
    "### Bir listede kaç adet tek, çift ve asal sayı olduğunu bulan program\n",
    "Problem açıklaması: Bir liste içerisindeki sayılardan kaç tanesinin tek, çift ve asal sayı olduğunu bulan ve ekrana yazandıran programı kodlayınız."
   ]
  },
  {
   "cell_type": "code",
   "execution_count": null,
   "id": "b5be9301-a3e3-4895-ab3d-94be89266005",
   "metadata": {},
   "outputs": [],
   "source": [
    "s = [22,36,12,44,56,96,34,23,47,85,76,13,19,45,48,53,7,11]\n",
    "tek, cift, asal = 0, 0, 0\n",
    "\n",
    "for i in range(0, len(s)):\n",
    "    sayi = s[i]\n",
    "    if (sayi %2 == 0):\n",
    "        cift = cift + 1\n",
    "    bolen = 0\n",
    "    \n",
    "    for j in range(1, sayi):\n",
    "        if (sayi %j == 0):\n",
    "            bolen = bolen + 1\n",
    "    if (bolen == 1):\n",
    "        asal = asal + 1\n",
    "        \n",
    "tek = len(s) - cift\n",
    "\n",
    "print(\"Toplam cift sayi: \", cift)\n",
    "print(\"Toplam tek sayi: \", tek)\n",
    "print(\"Toplam asal sayi: \", asal)"
   ]
  },
  {
   "cell_type": "markdown",
   "id": "b5485cef-8ec7-40a6-8a8a-95b6a0cbe486",
   "metadata": {},
   "source": [
    "### Bir listedeki sayıları küçükten büyüğe sıralama\n",
    "Problem açıklaması: Klavyeden girilen sayılar ile bir liste oluşturup, bu listeyi küçükten büyüğe sıralayan ve yeni halini ekrana bastıran programı kodlayınız."
   ]
  },
  {
   "cell_type": "code",
   "execution_count": null,
   "id": "df517d97-d0ec-4942-9d47-81ac0d938464",
   "metadata": {},
   "outputs": [],
   "source": [
    "liste = []\n",
    "N = int(input(\"Eleman sayısı giriniz: \"))\n",
    "for i in range(N):\n",
    "    sayi = float(input(\"Listeye aktarılacak sayı giriniz: \"))\n",
    "    liste.append(sayi)\n",
    "    \n",
    "liste.sort()\n",
    "print(\"------ Sıralanmış Liste ------\")\n",
    "print(\"Liste = \", liste)"
   ]
  },
  {
   "cell_type": "markdown",
   "id": "15b9fb49-66fe-482a-bfb5-213542e1aa92",
   "metadata": {},
   "source": [
    "### Bir listede kaç tane pozitif ve negatif sayı olduğunu bulan program\n",
    "Problem açıklaması: Klavyeden girilen sayılar ile bir liste oluşturup, bu listede kaç tane pozitif ya da negatif sayı olduğunu bulan programı kodlayınız."
   ]
  },
  {
   "cell_type": "code",
   "execution_count": null,
   "id": "995e4620-d0a9-43f8-9a0b-5fbadf668517",
   "metadata": {},
   "outputs": [],
   "source": [
    "sayilar = []\n",
    "pozitif = 0\n",
    "negatif = 0\n",
    "notr = 0\n",
    "N = int(input(\"Eleman sayısı giriniz: \"))\n",
    "for i in range(N):\n",
    "    sayi = float(input(\"Listeye aktarılacak sayı giriniz: \"))\n",
    "    sayilar.append(sayi)\n",
    "    \n",
    "print(\"\\nListe = \", sayilar)\n",
    "\n",
    "for i in sayilar:\n",
    "    if (i > 0):\n",
    "        pozitif = pozitif + 1\n",
    "    elif(i < 0):\n",
    "        negatif = negatif + 1\n",
    "    else:\n",
    "        notr = notr + 1\n",
    "\n",
    "print(\"\\nPozitif : \", pozitif, \"\\nNegatif : \", negatif, \"\\nNötr: \", notr)"
   ]
  },
  {
   "cell_type": "markdown",
   "id": "0ff80b03-f171-4548-90ff-8fe197e1ca1a",
   "metadata": {},
   "source": [
    "### İç içe döngü yapısı ile baklava dilimi çizen program"
   ]
  },
  {
   "cell_type": "code",
   "execution_count": null,
   "id": "f7458dd8-6ed5-4834-9a71-0633279b5853",
   "metadata": {},
   "outputs": [],
   "source": [
    "boyut = int(input(\"Baklava diliminin boyutunu giriniz: \"))\n",
    "for i in range(boyut):\n",
    "    for j in range((boyut)-i):\n",
    "        print(\" \", end = \"\")\n",
    "    for k in range(i*2-1):\n",
    "        print(\"*\",end = \"\")\n",
    "    print()\n",
    "for i in range(boyut,0,-1):\n",
    "    for j in range((boyut)-i):\n",
    "        print(\" \",end = \"\")\n",
    "    for k in range(i*2-1):\n",
    "        print(\"*\",end = \"\")\n",
    "    print()"
   ]
  }
 ],
 "metadata": {
  "kernelspec": {
   "display_name": "Python 3 (ipykernel)",
   "language": "python",
   "name": "python3"
  },
  "language_info": {
   "codemirror_mode": {
    "name": "ipython",
    "version": 3
   },
   "file_extension": ".py",
   "mimetype": "text/x-python",
   "name": "python",
   "nbconvert_exporter": "python",
   "pygments_lexer": "ipython3",
   "version": "3.9.13"
  }
 },
 "nbformat": 4,
 "nbformat_minor": 5
}
