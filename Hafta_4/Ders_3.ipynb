{
 "cells": [
  {
   "cell_type": "markdown",
   "id": "2ed746a9-09c7-42f0-b4b7-0f30639111db",
   "metadata": {},
   "source": [
    "### DÖNGÜLER\n",
    "+ Belirli bir koşul sağlanmaya devam ettiği sürece, belirlenen kod bloğunu tekrar ettiren yapılara döngü denir.\n",
    "+ Python'da `while` ve `for` olmak üzere iki adet döngü bulunur."
   ]
  },
  {
   "cell_type": "markdown",
   "id": "d78a765c-e4df-4595-aedc-1db024253f4b",
   "metadata": {},
   "source": [
    "### For Döngüsü\n",
    "Belirli bir sayıda tekrar etmesi istenen işlemler için ya da bir veri kümesi içerisindeki elemanlar üzerinde gezinmek için kullanılır.\n"
   ]
  },
  {
   "cell_type": "code",
   "execution_count": 2,
   "id": "1d191602-0bfb-4289-a482-3698964a48d0",
   "metadata": {},
   "outputs": [
    {
     "name": "stdout",
     "output_type": "stream",
     "text": [
      "1 2 3 4 5 6 7 8 9 10 11 12 13 14 15 16 17 18 19 20 21 22 23 24 25 26 27 28 29 30 31 32 33 34 35 36 37 38 39 40 41 42 43 44 45 46 47 48 49 50 51 52 53 54 55 56 57 58 59 60 61 62 63 64 65 66 67 68 69 70 71 72 73 74 75 76 77 78 79 80 81 82 83 84 85 86 87 88 89 90 91 92 93 94 95 96 97 98 99 100 "
     ]
    }
   ],
   "source": [
    "# Belirli bir sayıda tekrar etmesi istenen işlem: 1 ile 100 arasındaki sayıları konsola bastıran program.\n",
    "for i in range(1,101):\n",
    "    print(i, end = \" \")"
   ]
  },
  {
   "cell_type": "code",
   "execution_count": 1,
   "id": "05b56103-cda3-492d-847d-aa8cfd5d7fa8",
   "metadata": {},
   "outputs": [
    {
     "name": "stdout",
     "output_type": "stream",
     "text": [
      "1 3 5 7 9 11 13 15 17 19 21 23 25 27 29 31 33 35 37 39 41 43 45 47 49 51 53 55 57 59 61 63 65 67 69 71 73 75 77 79 81 83 85 87 89 91 93 95 97 99 "
     ]
    }
   ],
   "source": [
    "# range() fonksiyonu\n",
    "#range(başlangıç,bitiş,adım)\n",
    "for i in range(1,100,2):\n",
    "    print(i, end = \" \")"
   ]
  },
  {
   "cell_type": "markdown",
   "id": "153f7770-d2a5-493d-a77b-93977f7313c8",
   "metadata": {},
   "source": [
    "#### Örnek: 0 ile 150 arasındaki sayıları 5 er 5 er ekrana bastıran program"
   ]
  },
  {
   "cell_type": "code",
   "execution_count": 3,
   "id": "1c1ca595-c171-48fc-a35c-0a8c8e5724c4",
   "metadata": {
    "tags": []
   },
   "outputs": [
    {
     "name": "stdout",
     "output_type": "stream",
     "text": [
      "5 10 15 20 25 30 35 40 45 50 55 60 65 70 75 80 85 90 95 100 105 110 115 120 125 130 135 140 145 150 "
     ]
    }
   ],
   "source": [
    "for i in range(5,151,5):\n",
    "    print(i, end = \" \")"
   ]
  },
  {
   "cell_type": "markdown",
   "id": "340e91d5-c1c8-4f04-a203-c7b7fc11aa9c",
   "metadata": {},
   "source": [
    "#### Örnek: 1 ile 50 arasındaki 5'e bölünebilen sayıları range fonksiyonu ile kodlayınız"
   ]
  },
  {
   "cell_type": "code",
   "execution_count": 5,
   "id": "567d3ee6-0667-4b32-b2a6-47ecd1a692bb",
   "metadata": {
    "tags": []
   },
   "outputs": [
    {
     "name": "stdout",
     "output_type": "stream",
     "text": [
      "5 10 15 20 25 30 35 40 45 50 "
     ]
    }
   ],
   "source": [
    "for i in range(1,51):\n",
    "    if (i % 5 == 0):\n",
    "        print(i, end = \" \")"
   ]
  },
  {
   "cell_type": "code",
   "execution_count": 6,
   "id": "b17af091-2280-4a0b-a443-2d2cbbcb51ad",
   "metadata": {},
   "outputs": [
    {
     "name": "stdout",
     "output_type": "stream",
     "text": [
      "E\n",
      "n\n",
      "e\n",
      "s\n"
     ]
    }
   ],
   "source": [
    "# Bir veri kümesi içerisindeki elamanlar üzerinde gezinmek: İsminizin harflerini konsola bastıran program.\n",
    "isim = \"Enes\"\n",
    "for i in isim:\n",
    "    print(i)"
   ]
  },
  {
   "cell_type": "markdown",
   "id": "fe0d6b03-bb37-43d0-a735-f9b6df8a62ba",
   "metadata": {},
   "source": [
    "#### Listeler\n",
    "`liste = [\"öğe1\", \"öğe2\", \"öğe3\"]`\n",
    "+ Değiştirilebilirler\n",
    "+ Kapsayıcıdırlar (farklı tipte veriler bulundurabilir)\n",
    "+ Sıralıdırlar (index ile elamanına erişilebilir)"
   ]
  },
  {
   "cell_type": "code",
   "execution_count": 7,
   "id": "d274138b-03ed-40be-8d67-9e333a8f2699",
   "metadata": {},
   "outputs": [
    {
     "name": "stdout",
     "output_type": "stream",
     "text": [
      "21\n",
      "Ağaç\n",
      "14.43\n",
      "True\n"
     ]
    }
   ],
   "source": [
    "# Liste verisi üzerinden for döngüsü ile her bir elemana ulaşmak\n",
    "liste = [21, \"Ağaç\", 14.43, True]\n",
    "for i in liste:\n",
    "    print(i)"
   ]
  },
  {
   "cell_type": "markdown",
   "id": "908027dd-c95c-421d-b187-76aa3a6b2aa9",
   "metadata": {},
   "source": [
    "### index\n",
    "+ Listedeki elamanın numarasıdır/yeridir."
   ]
  },
  {
   "cell_type": "code",
   "execution_count": 8,
   "id": "4358ca7f-0648-46ef-ad87-2a1807d4b4ed",
   "metadata": {},
   "outputs": [
    {
     "data": {
      "text/plain": [
       "21"
      ]
     },
     "execution_count": 8,
     "metadata": {},
     "output_type": "execute_result"
    }
   ],
   "source": [
    "# bir listedeki ilk elemana ulaşmak: liste[0]\n",
    "liste = [21, \"Ağaç\", 14.43, True]\n",
    "liste[0]"
   ]
  },
  {
   "cell_type": "code",
   "execution_count": 10,
   "id": "0c236d14-44f0-4fb7-a2f2-c2c52bb798a2",
   "metadata": {},
   "outputs": [
    {
     "data": {
      "text/plain": [
       "True"
      ]
     },
     "execution_count": 10,
     "metadata": {},
     "output_type": "execute_result"
    }
   ],
   "source": [
    "# bir listedeki son elemana ulaşmak: liste[-1]\n",
    "liste = [21, \"Ağaç\", 14.43, True]\n",
    "liste[-1]"
   ]
  },
  {
   "cell_type": "code",
   "execution_count": 11,
   "id": "5d958fac-430b-4840-8297-518bc2382ed0",
   "metadata": {},
   "outputs": [
    {
     "data": {
      "text/plain": [
       "6"
      ]
     },
     "execution_count": 11,
     "metadata": {},
     "output_type": "execute_result"
    }
   ],
   "source": [
    "# listedeki bir elemana ait index numarasını öğrenme: liste.index(eleman)\n",
    "l = [1,2,4,5,9,214,\"elma\"]\n",
    "l.index(\"elma\")"
   ]
  },
  {
   "cell_type": "markdown",
   "id": "9071541c-493b-4979-9b34-3360f28b39ed",
   "metadata": {},
   "source": [
    "#### Liste dilimleme\n",
    "Listeleri parçalara ayırmak için `:` operatörü kullanılır."
   ]
  },
  {
   "cell_type": "code",
   "execution_count": 12,
   "id": "da08e5f6-2ced-41e8-bb03-a8807ac61a8d",
   "metadata": {},
   "outputs": [
    {
     "data": {
      "text/plain": [
       "[2, 5, 8]"
      ]
     },
     "execution_count": 12,
     "metadata": {},
     "output_type": "execute_result"
    }
   ],
   "source": [
    "l = [1,2,3,4,5,6,7,8,9,10]\n",
    "l[1:10:3] #ikişer atlayarak dilimler"
   ]
  },
  {
   "cell_type": "code",
   "execution_count": 13,
   "id": "9f14a113-fd05-4fc2-a70c-a38284c580c3",
   "metadata": {},
   "outputs": [
    {
     "data": {
      "text/plain": [
       "[1, 2, 3, 4, 5, 6, 7, 8, 9, 10, 11]"
      ]
     },
     "execution_count": 13,
     "metadata": {},
     "output_type": "execute_result"
    }
   ],
   "source": [
    "# listeye eleman ekleme: liste.append(eleman)\n",
    "l = [1,2,3,4,5,6,7,8,9,10]\n",
    "l.append(11)\n",
    "l"
   ]
  },
  {
   "cell_type": "markdown",
   "id": "ec099a93-89c9-4291-bcee-d8bd39106e32",
   "metadata": {},
   "source": [
    "### While Döngüsü\n",
    "Belirli bir koşul sağlanıyorken tekrar etmesi istenen işlemler için kullanılır."
   ]
  },
  {
   "cell_type": "code",
   "execution_count": null,
   "id": "bfcf0c4f-3209-47a9-8591-18f8df4d0031",
   "metadata": {},
   "outputs": [],
   "source": [
    "# 1'den başlayarak 10'a kadar olan sayıları ekrana bastıran program.\n",
    "sayac = 1\n",
    "while (sayac <= 10):\n",
    "    print(sayac)\n",
    "    sayac += 1 # sayac = sayac + 1"
   ]
  },
  {
   "cell_type": "code",
   "execution_count": null,
   "id": "9c7b91b9-abe3-4c2e-96b8-cf1ac113ad5e",
   "metadata": {},
   "outputs": [],
   "source": [
    "# Girilen sayı 0'dan farklı olduğu sürece o sayının karesini alan program\n",
    "sayi = 1\n",
    "print(\"Programdan çıkmak için 0 giriniz.\")\n",
    "while (sayi != 0):\n",
    "    sayi = int(input(\"Karesi alınacak sayi giriniz: \"))\n",
    "    print(\"Karesi\", sayi**2)"
   ]
  },
  {
   "cell_type": "markdown",
   "id": "c4751335-d6fd-4955-89e6-2a45ef103741",
   "metadata": {},
   "source": [
    "### Sonsuz Döngü \n",
    "Python'da sonsuz döngüler `while True:` yapısı ile oluşturulur. Sonsuz döngü yapılarından ancak `break` komutu ile çıkılabilir."
   ]
  },
  {
   "cell_type": "code",
   "execution_count": null,
   "id": "89f6cd41-4938-42c6-82b7-fc2e71cb222b",
   "metadata": {},
   "outputs": [],
   "source": [
    "# Sonsuz döngü while True:\n",
    "while True:\n",
    "    print(\"a\")"
   ]
  },
  {
   "cell_type": "markdown",
   "id": "d2f03737-d5ad-41d8-bb3f-ecc1efcc5dad",
   "metadata": {},
   "source": [
    "### Atlama İfadeleri\n",
    "`break`, `continue`, `pass`"
   ]
  },
  {
   "cell_type": "code",
   "execution_count": 15,
   "id": "6a89542f-2aec-450f-a674-6aa863acefd2",
   "metadata": {},
   "outputs": [
    {
     "name": "stdout",
     "output_type": "stream",
     "text": [
      "1 2 "
     ]
    }
   ],
   "source": [
    "# break koşul sağlandığında döngüyü kırar\n",
    "for i in range(1,11):\n",
    "    if i == 3:\n",
    "        break\n",
    "    print(i, end = \" \")"
   ]
  },
  {
   "cell_type": "code",
   "execution_count": 16,
   "id": "99871caa-cb92-4496-8cd4-17f347489f28",
   "metadata": {},
   "outputs": [
    {
     "name": "stdout",
     "output_type": "stream",
     "text": [
      "1 2 4 5 6 7 8 9 10 "
     ]
    }
   ],
   "source": [
    "# continue koşul sağlandığında geçerli koşulu atlar\n",
    "for i in range(1,11):\n",
    "    if i == 3:\n",
    "        continue\n",
    "    print(i, end = \" \")"
   ]
  },
  {
   "cell_type": "code",
   "execution_count": 18,
   "id": "4de966fe-1194-456e-8437-d3ca284d9e1a",
   "metadata": {},
   "outputs": [],
   "source": [
    "# pass hiçbir şey yapar\n",
    "for i in range(1,11):\n",
    "    pass"
   ]
  },
  {
   "cell_type": "markdown",
   "id": "af8c0c05-f887-482f-9653-416069d81891",
   "metadata": {},
   "source": [
    "### Örnek: Metindeki boşlukları silen program"
   ]
  },
  {
   "cell_type": "code",
   "execution_count": 19,
   "id": "b1ad6892-5500-4b41-9778-7c70c8e487d0",
   "metadata": {
    "tags": []
   },
   "outputs": [
    {
     "name": "stdout",
     "output_type": "stream",
     "text": [
      "EnesFehmiManan"
     ]
    }
   ],
   "source": [
    "isim = \"Enes Fehmi Manan\"\n",
    "for i in isim:\n",
    "    if i == \" \":\n",
    "        continue\n",
    "    print(i, end = \"\")"
   ]
  },
  {
   "cell_type": "code",
   "execution_count": 21,
   "id": "50d4ff94-713f-4551-8ea4-5fe55afe3b13",
   "metadata": {
    "tags": []
   },
   "outputs": [
    {
     "data": {
      "text/plain": [
       "'EnesFehmiManan'"
      ]
     },
     "execution_count": 21,
     "metadata": {},
     "output_type": "execute_result"
    }
   ],
   "source": [
    "# programlamada bir şeyi yapmanın birden fazla yolu vardır\n",
    "# Python'da bulunan gömülü fonksiyonlar yardımı ile de yukarıdaki programı algoritma kurmadan yapabilriz\n",
    "isim = \"Enes Fehmi Manan\"\n",
    "isim.replace(\" \",\"\")"
   ]
  },
  {
   "cell_type": "code",
   "execution_count": 22,
   "id": "d6d8c5d7-7b34-44c4-9a15-01b2c0982083",
   "metadata": {
    "tags": []
   },
   "outputs": [
    {
     "name": "stdout",
     "output_type": "stream",
     "text": [
      "Anka"
     ]
    }
   ],
   "source": [
    "kelime = \"Ankara\"\n",
    "for i in kelime:\n",
    "    if i == \"r\":\n",
    "        break\n",
    "    print(i, end = \"\")"
   ]
  },
  {
   "cell_type": "markdown",
   "id": "e4967a98-c44a-498f-827a-bb2c8e3438f5",
   "metadata": {},
   "source": [
    "#### Örnek: Sonuz döngü ile girilen sayıların toplamını bulan program\n",
    "Problem açıklaması: Klavyeden girilen sayıların toplamını bulan programı kodlayınız.\n",
    "\n",
    "Not: Programı sonsuz döngü yapısı ile kodlayacağımız için döngünün bir yerde kırılması ve programın bitmesi gerekli. Döngüyü kırmak için yani programdan çıkmak için 0 tuşlansın."
   ]
  },
  {
   "cell_type": "code",
   "execution_count": null,
   "id": "267b5a84-dbba-458a-92c1-d667c28169f6",
   "metadata": {
    "tags": []
   },
   "outputs": [],
   "source": [
    "toplam = 0\n",
    "while True:\n",
    "    sayi = float(input(\"Bir sayı giriniz: \"))\n",
    "    if (sayi == 0):\n",
    "        break\n",
    "    toplam += sayi # toplam = toplam + sayi\n",
    "print(\"Girilen sayıların toplamı: \", toplam)"
   ]
  },
  {
   "cell_type": "markdown",
   "id": "02b7fb0a-4a67-42a2-ba6a-9d672840e67e",
   "metadata": {},
   "source": [
    "### İç İçe Döngüler"
   ]
  },
  {
   "cell_type": "code",
   "execution_count": 36,
   "id": "b88bb874-0199-4f79-9121-8cd7c33cb10e",
   "metadata": {},
   "outputs": [
    {
     "name": "stdout",
     "output_type": "stream",
     "text": [
      "[0][1][2][3][4]\n",
      " 0\n",
      "[0][1][2][3][4]\n",
      " 1\n",
      "[0][1][2][3][4]\n",
      " 2\n",
      "[0][1][2][3][4]\n",
      " 3\n",
      "[0][1][2][3][4]\n",
      " 4\n"
     ]
    }
   ],
   "source": [
    "# Bu kod bloğu toplamada 25 kere çalışır\n",
    "for i in range(0,5):\n",
    "    for j in range(0,5):\n",
    "        print([j], end = \"\")\n",
    "    print(\"\\n\",i)"
   ]
  },
  {
   "cell_type": "code",
   "execution_count": null,
   "id": "53d75f8f-f122-4ad7-88ce-362f56663f94",
   "metadata": {},
   "outputs": [],
   "source": [
    "# iç içe döngü ile çarpım tablosunu yazdırmak\n",
    "for i in range(1,11):\n",
    "    for j in range(1,11):\n",
    "        print (i,\"*\", j, \"=\", i * j)\n",
    "    print(\"\\n\")"
   ]
  }
 ],
 "metadata": {
  "kernelspec": {
   "display_name": "Python 3 (ipykernel)",
   "language": "python",
   "name": "python3"
  },
  "language_info": {
   "codemirror_mode": {
    "name": "ipython",
    "version": 3
   },
   "file_extension": ".py",
   "mimetype": "text/x-python",
   "name": "python",
   "nbconvert_exporter": "python",
   "pygments_lexer": "ipython3",
   "version": "3.9.13"
  }
 },
 "nbformat": 4,
 "nbformat_minor": 5
}
