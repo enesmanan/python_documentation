{
 "cells": [
  {
   "cell_type": "markdown",
   "id": "c25dd180-1ebb-463b-9d4f-8e20478de2ba",
   "metadata": {},
   "source": [
    "## MARKDOWN REHBERİ\n",
    "+ Başlık oluşturma #\n",
    "+ Liste oluşturma +\n",
    "+ Link bırakmak  `[ ]( )`\n",
    "+ Görsel eklemek `![ ]( )`\n",
    "+ Kod eklemek `` (altgr+virgül)\n",
    "+ Alıntı yapmak > \n",
    "+ Matematiksel ifadeleri yazmak $$"
   ]
  },
  {
   "cell_type": "markdown",
   "id": "251d976f-0a2d-4528-92fa-f50095bc2a88",
   "metadata": {},
   "source": [
    ">Başlık oluşturmak için # (altgr+3) işaretini kullanıyoruz. # sayısına göre başlığımız alt başlık olarak değişiyor\n",
    "# Başlık\n",
    "## Alt Başlık\n",
    "### Daha Da Alt Başlık\n",
    "#### Daha Da Daha Alt Başlık"
   ]
  },
  {
   "cell_type": "markdown",
   "id": "af9c0013-95dc-47a0-8de8-0c57f19e4d64",
   "metadata": {},
   "source": [
    ">Liste oluşturmak için + (shift+4) sembolünü kullanıyoruz.\n",
    "### Liste\n",
    "+ eleman 1\n",
    "+ eleman 2\n",
    "+ eleman 3"
   ]
  },
  {
   "cell_type": "markdown",
   "id": "63b77c00-428b-46f5-a3f0-00606dda20ac",
   "metadata": {},
   "source": [
    ">Link bırakmak için köşeli parantezin yanına bitişik bir şekilde normal parantez koyuyoruz. Koşeli parantezin içine mesajımızı, normal parantezin içine linki yazıyoruz. `[arama](https://www.google.com/)`\n",
    "\n",
    "> [ ] -> altgr+8, altgr+9\n",
    "\n",
    "> ( ) -> shift+8, shift+9\n",
    "\n",
    "[arama](https://www.google.com/)"
   ]
  },
  {
   "cell_type": "markdown",
   "id": "338eeb12-e620-42f0-b647-b5dfdb8c5c17",
   "metadata": {},
   "source": [
    ">Kod eklemek için `` (altgr+, tuş kombinasyonuna iki kere bastıktan sonra arasına yazıyoruz) işaretini kullanıyoruz.\n",
    "\n",
    "`print(\"isim\")`"
   ]
  },
  {
   "cell_type": "markdown",
   "id": "10fe27ad-2366-4bb2-9d89-12514c8a08cd",
   "metadata": {},
   "source": [
    ">Alıntı yapmak için büyüktür işaretini kullanıyoruz. Klavyeden büyüktür yapmak için shift+ z tuşunun solundaki tuşa basıyoruz.\n",
    "\n",
    "> Bu bir alıntıdır."
   ]
  },
  {
   "cell_type": "markdown",
   "id": "15b9bf65-88f0-465a-b6e6-1ada255840cf",
   "metadata": {},
   "source": [
    ">Matematiksel ifade yazmak için $ (altgt+4) sembolünü kullanıyoruz. İki dolar sembolünün arasına ifadeyi yazıyoruz.\n",
    "\n",
    "$(a+b)^2$"
   ]
  },
  {
   "cell_type": "markdown",
   "id": "069656e0-395e-4e55-b202-928a3675560b",
   "metadata": {},
   "source": [
    "### ZEN OF PYTHON-PYTHONISTA"
   ]
  },
  {
   "cell_type": "code",
   "execution_count": null,
   "id": "98af4994-7ecf-4890-9fb2-f435ed4e89f9",
   "metadata": {
    "tags": []
   },
   "outputs": [],
   "source": [
    "import this"
   ]
  },
  {
   "cell_type": "code",
   "execution_count": 4,
   "id": "a09b56b5-6af3-4e01-8e49-c7a2d194981b",
   "metadata": {},
   "outputs": [
    {
     "name": "stdout",
     "output_type": "stream",
     "text": [
      "Beautiful is better than ugly\n"
     ]
    }
   ],
   "source": [
    "# Ugly:\n",
    "halve_evens_only = lambda nums: map(lambda i: i/2, filter(lambda i: not i%2, nums))\n",
    "\n",
    "# Beautiful\n",
    "def halve_evens_only(nums):\n",
    "    return [i/2 for i in nums if not i % 2]\n",
    "\n",
    "print(\"Beautiful is better than ugly\")"
   ]
  },
  {
   "cell_type": "markdown",
   "id": "98462fa3-8a16-4eba-ae93-8819bc8e47c6",
   "metadata": {
    "tags": []
   },
   "source": [
    "### The Zen of Python - Tüm Maddeler\n",
    "+ Güzel çirkinden daha iyidir(Beautiful is better than ugly).\n",
    "+ Açık, örtük olandan daha iyidir(Explicit is better than implicit).\n",
    "+ Basit, karmaşıktan daha iyidir(Simple is better than complex).\n",
    "+ Komplike, karmakarışıktan daha iyidir(Complex is better than complicated).\n",
    "+ Düz, içiçe olandan daha iyidir(Flat is better than nested).\n",
    "+ Aralıklı, sıkışık olandan daha iyidir(Sparse is better than dense).\n",
    "+ Okunabilirlik kazanır(Readability counts).\n",
    "+ Özel durumlar kuralları yıkacak kadar özel değildir(Special cases aren't special enough to break the rules).\n",
    "+ Partiklik, temizliği yener(Although practicality beats purity).\n",
    "+ Hatalar asla sessizce geçmemeli. Bilinçli olarak susturulmadıkça(Errors should never pass silently. Unless explicitly silenced.).\n",
    "+ Belirsizlik karşısında, tahmin etmenin cazibesine kapılmayın(In the face of ambiguity, refuse the temptation to guess).\n",
    "+ Bir işi doğru yapmanın bir yolu olmalıdır hatta tercihen sadece bir yol(There should be one-- and preferably only one --obvious way to do it).\n",
    "+ Hatta bu yol Hollandalı değilsen açık olmayabilir ilk görüşte(Although that way may not be obvious at first unless you're Dutch).\n",
    "+ Şimdi, asla!dan daha iyidir(Now is better than never).\n",
    "+ Asla, hemen'den iyidir(Although never is often better than right now).\n",
    "+ Eğer bir şeyin(uygulama, modül, vs.) açıklamak zorsa, o şey kötü bir fikirdir(If the implementation is hard to explain, it's a bad idea).\n",
    "+ Eğer bir şeyi(uygulama, modül, vs.) açıklamak kolaysa, o şey iyi bir fikirdir(If the implementation is easy to explain, it may be a good idea).\n",
    "+ İsim Alanları/Uzayları harika fikirlerdir, onlardan daha fazla yapalım(Namespaces are one honking great idea -- let's do more of those!)\n",
    "\n",
    "    [Kaynak](https://hakanyalcinkaya.github.io/python/001-python-ve-kod-yazma-sanati.html#pep-20-the-zen-of-python)"
   ]
  },
  {
   "cell_type": "markdown",
   "id": "15a0aa09-b6cc-4429-a847-f257dc465f59",
   "metadata": {},
   "source": [
    "### VERİ TİPLERİ\n",
    "+ string  (sınırsız)\n",
    "+ integer (4 byte)\n",
    "+ float   (4 byte)\n",
    "+ boolean (1 byte)"
   ]
  },
  {
   "cell_type": "markdown",
   "id": "a14cc06c-5d5a-4455-914f-8fa28ddb22eb",
   "metadata": {},
   "source": [
    "### String yani metin veri tipi\n",
    "Python'da string yazmak için esc tuşunun altındaki tırnak tuşuna iki kere basıp açılan tırnakların arasına yazıyoruz. \n",
    "\"Burada yazan ifade bir stringdir.\""
   ]
  },
  {
   "cell_type": "code",
   "execution_count": null,
   "id": "386cb8c5-305f-45cb-8b83-6759ea8f9090",
   "metadata": {},
   "outputs": [],
   "source": [
    "print(\"String'in kısaltması str'dir.\") #Python'da string ifadeler kırmızı rengini alır.\n",
    "print('Tek tırnak arasına yazmak ta string yazmaktır.') #Tek tırnak ya da çift tırnak arasına yazmak arasında bir fark yoktur.\n",
    "print(\"\"\"\n",
    "Eğer alt alta uzunca bir şeyler yazmak istersem 3 tane tırnak açarım.\n",
    "Bu bloğun içerisine istediğim kadar metin yazabilirim.\n",
    "\"\"\")"
   ]
  },
  {
   "cell_type": "markdown",
   "id": "98550e63-2d45-408a-931f-0adb5b473faa",
   "metadata": {},
   "source": [
    "### integer yani tam sayı veri tipi\n",
    "Python'da yazdığınız herhangi bir tam sayı int tipindedir. Örn: 3, 5, 67, 23454, 0\n",
    "\n",
    "integer'ın kısaltması int'tir."
   ]
  },
  {
   "cell_type": "markdown",
   "id": "7c93c21c-8df8-4f2a-96c4-5dc2c127a8ab",
   "metadata": {},
   "source": [
    "### Float yani kesirli sayı tipi\n",
    "Python'da yazdığımız herhangi bir kesirli/ondalıklı sayı float tipindedir. Örn: 1.2, 23.5, 0.0, 234.45, 25446.3455345\n",
    "\n",
    "Float'ın bir kısaltması yoktur."
   ]
  },
  {
   "cell_type": "markdown",
   "id": "4b96433f-1aba-44d1-9ee6-cda5c15f1938",
   "metadata": {},
   "source": [
    "### Boolean yani mantıksal veri tipi True-False\n",
    "Python'da boolean veri tipi mantıksal veri tipi olarak geçer ve True=1 , False=0 dır.\n",
    "\n",
    "Boolean'ın kısaltması bool'dur."
   ]
  },
  {
   "cell_type": "code",
   "execution_count": 10,
   "id": "d0ace5e7-4fa0-45a2-8407-beda0a1368ec",
   "metadata": {
    "tags": []
   },
   "outputs": [
    {
     "name": "stdout",
     "output_type": "stream",
     "text": [
      "<class 'str'>\n",
      "<class 'int'>\n",
      "<class 'float'>\n",
      "<class 'bool'>\n"
     ]
    }
   ],
   "source": [
    "#Bir değerin veri tipini öğrenmek  için type() fonksiyonu kullanılır.\n",
    "print(type(\"metin\"))\n",
    "print(type(5))\n",
    "print(type(5.2))\n",
    "print(type(True))"
   ]
  },
  {
   "cell_type": "markdown",
   "id": "3cac32a8-fda4-4a00-b187-02dd17615d7e",
   "metadata": {},
   "source": [
    "#### Veri Tiplerinde Toplama ve Tip Dönüşümü\n",
    "+ str + str\n",
    "+ str + int\n",
    "+ str + float\n",
    "+ int + float\n",
    "+ bool + int\n",
    "+ bool + float"
   ]
  },
  {
   "cell_type": "code",
   "execution_count": 13,
   "id": "ad252e23-53a5-4331-8da6-e7dbc7004528",
   "metadata": {},
   "outputs": [
    {
     "name": "stdout",
     "output_type": "stream",
     "text": [
      "BirŞeyler\n",
      "19\n"
     ]
    }
   ],
   "source": [
    "# str + str işemini yaparsak bize toplama işlemi yapmaz birleştirme işlemi yapar.\n",
    "print(\"Bir\" + \"Şeyler\")\n",
    "print(\"1\" + \"9\")"
   ]
  },
  {
   "cell_type": "code",
   "execution_count": null,
   "id": "e65a840c-c89a-4586-b099-cda6d9082b4d",
   "metadata": {},
   "outputs": [],
   "source": [
    "# str + int toplamaya çalışırsak hata alırız.\n",
    "print(\"5\" + 4) # Bu işlemi çalıştırdığınızda hata alacaksınız."
   ]
  },
  {
   "cell_type": "code",
   "execution_count": 16,
   "id": "485a3d38-a188-49d1-8e31-d68bee90b4c2",
   "metadata": {},
   "outputs": [
    {
     "name": "stdout",
     "output_type": "stream",
     "text": [
      "54\n",
      "9\n"
     ]
    }
   ],
   "source": [
    "# Bu hatadan tip dönüşümü yaparak kurtulabiliriz.\n",
    "print(\"5\" + str(4)) # int tipindeki 4 sayısını stringe çevirdik\n",
    "print(int(\"5\") + 4) # str tipindeki 5 metinini int tipine yanı 5 sayısına çevirdik"
   ]
  },
  {
   "cell_type": "code",
   "execution_count": 21,
   "id": "0556e221-b1a5-47a8-bcb5-60d8f7c228e5",
   "metadata": {},
   "outputs": [
    {
     "name": "stdout",
     "output_type": "stream",
     "text": [
      "54.4\n",
      "9.3\n"
     ]
    }
   ],
   "source": [
    "# str + float işleminde de str + int işleminde olduğu gibi hata alırız. Bu hatadan kurtulmanın yolu gene tip dönüşümü yapmaktır.\n",
    "print(\"5\" + str(4.4)) # float tipindeki 4.4 sayısını stringe çevirdik\n",
    "print(float(\"5\") + 4.3) # str tipindeki 5 metinini float tipine yani 5.0 sayısına çevirdik"
   ]
  },
  {
   "cell_type": "code",
   "execution_count": 18,
   "id": "b02c59ab-333f-43f0-bb5a-52a1f677ff5f",
   "metadata": {},
   "outputs": [
    {
     "name": "stdout",
     "output_type": "stream",
     "text": [
      "8.4\n"
     ]
    }
   ],
   "source": [
    "# int + float işlemini yaparsak bu kodun çıktısı float tipinde olacaktır. Çünkü float int'e göre daha kapsamlı bir gösterimdir.\n",
    "print(4 + 4.4)"
   ]
  },
  {
   "cell_type": "code",
   "execution_count": 24,
   "id": "febd299f-882f-4d23-8873-863e2c9a1b12",
   "metadata": {},
   "outputs": [
    {
     "name": "stdout",
     "output_type": "stream",
     "text": [
      "6\n",
      "5\n"
     ]
    }
   ],
   "source": [
    "# bool + int işlemini yaparsak bu kodun çıktısı int tipinde olacaktır.\n",
    "print(True + 5)  # True = 1\n",
    "print(False + 5) # False = 0"
   ]
  },
  {
   "cell_type": "code",
   "execution_count": 25,
   "id": "8c42cbae-d9cb-45ee-8744-9bb631694bce",
   "metadata": {},
   "outputs": [
    {
     "name": "stdout",
     "output_type": "stream",
     "text": [
      "6.0\n",
      "5.4\n"
     ]
    }
   ],
   "source": [
    "# bool + float işlemini yaparsak bu kodun çıktısı float tipinde olacaktır.\n",
    "print(True + 5.0)  # True = 1\n",
    "print(False + 5.4) # False = 0"
   ]
  },
  {
   "cell_type": "markdown",
   "id": "4bf58c46-3cf5-4947-941d-23afc89d9565",
   "metadata": {},
   "source": [
    "#### DEĞİŞKEN VE SABİT TANIMLAMA\n",
    "##### Değişken İsimlendirme Kuralları\n",
    "+ Değişken adlarının başında rakam bulunamaz.\n",
    "+ Değişken adlarında boşluk bırakılmaz.\n",
    "+ Değişken adlarında alt çizgi (_) haricinde özel karakter kullanılmaz.\n",
    "+ Program dilindeki rezerve kelimeler değişken adı olarak kullanılmaz. (import keyword, keyword.kwlist)\n",
    "+ Değişken adlandırırken ingiliz alfabesindeki karakterleri kullanmak uygundur.\n",
    "+ Python büyük-küçük harf duyarlı (case-sensitive) bir dildir."
   ]
  },
  {
   "cell_type": "code",
   "execution_count": null,
   "id": "2c075138-8727-4cf5-b003-e89d9bc033fd",
   "metadata": {},
   "outputs": [],
   "source": [
    "# Sabit tanımlarken büyük harf kullanmalıyız böylece kaynak kodu okuyan kişiler tanımlı değerin bir sabit olduğunu anlayacakır.\n",
    "PI = 3.14 # mesela pi bir sabittir yani değeri hep aynıdır bu yüzden onu büyük harfle yazdım"
   ]
  },
  {
   "cell_type": "code",
   "execution_count": 15,
   "id": "5e45447b-1ce6-441d-9fdb-dc9e4df785a8",
   "metadata": {},
   "outputs": [
    {
     "name": "stdout",
     "output_type": "stream",
     "text": [
      "['False', 'None', 'True', '__peg_parser__', 'and', 'as', 'assert', 'async', 'await', 'break', 'class', 'continue', 'def', 'del', 'elif', 'else', 'except', 'finally', 'for', 'from', 'global', 'if', 'import', 'in', 'is', 'lambda', 'nonlocal', 'not', 'or', 'pass', 'raise', 'return', 'try', 'while', 'with', 'yield']\n"
     ]
    }
   ],
   "source": [
    "# değişken tanımlarken python'da kullanamayacağımız yasaklı kelimeler\n",
    "import keyword\n",
    "print(keyword.kwlist)"
   ]
  },
  {
   "cell_type": "code",
   "execution_count": 46,
   "id": "1316eec1-f2a7-4d56-8e60-293ec565b36e",
   "metadata": {},
   "outputs": [
    {
     "data": {
      "text/plain": [
       "7"
      ]
     },
     "execution_count": 46,
     "metadata": {},
     "output_type": "execute_result"
    }
   ],
   "source": [
    "#Bir karakter dizesinin uzunluğunu ölçmek için len() fonksiyonu kullanılır.\n",
    "kelime = \"patates\"\n",
    "len(kelime)"
   ]
  },
  {
   "cell_type": "markdown",
   "id": "f2817971-894f-45b4-85d6-fd65cead8e7a",
   "metadata": {},
   "source": [
    "#### Temel Matematiksel Operatörler\n",
    "+ Toplama +\n",
    "+ Çıkarma -\n",
    "+ Çarpma *\n",
    "+ Bölme /\n",
    "+ Tam bölme //\n",
    "+ Mod alma %\n",
    "+ Üs alma **"
   ]
  },
  {
   "cell_type": "code",
   "execution_count": 27,
   "id": "fd361d1e-b0dc-48c3-9c8b-360919ae3ee2",
   "metadata": {},
   "outputs": [
    {
     "name": "stdout",
     "output_type": "stream",
     "text": [
      "10\n",
      "2.4\n",
      "16\n",
      "2.0\n",
      "2\n",
      "1\n",
      "8\n"
     ]
    }
   ],
   "source": [
    "print(5 + 5)\n",
    "print(5.3 - 2.9)\n",
    "print(4 * 4) #carpma işlemi için yıldız işareti kullanılır. Klavyede 0 tuşunun sağında bulunur.\n",
    "print(12 / 6) # Bu işlemin sonucu float döndürür. Eğer tam olarak bölmek istersek // bu ifadeyi kullanmalıyız.\n",
    "print(12 // 6)\n",
    "print(13 % 6) # Mod bir sayının bölümünden kalandır.\n",
    "print(2**3) # Üs alma işemi yapmak için ike kere yıldız ifadesini kullanırız."
   ]
  },
  {
   "cell_type": "markdown",
   "id": "703bb115-87d9-4c4d-b5a7-4906c48a18fc",
   "metadata": {},
   "source": [
    "#### Karşılaştırma Operatörleri\n",
    "+ == (eşit mi?)\n",
    "+ != (eşit değil mi?)\n",
    "+ <, <= \n",
    "+ \">\", >="
   ]
  },
  {
   "cell_type": "code",
   "execution_count": 30,
   "id": "5ce4eb04-10ba-47f9-b477-a5344f5df5ef",
   "metadata": {},
   "outputs": [
    {
     "name": "stdout",
     "output_type": "stream",
     "text": [
      "True\n",
      "False\n",
      "True\n",
      "False\n"
     ]
    }
   ],
   "source": [
    "#Karşılaştırma operatörleri bize çıktı olarak bool veri tipini döndürür. Sonuç ya yanlıştır ya da doğru.\n",
    "print(5 == 5)   #True döndürür\n",
    "print(5 == 3)   #False döndürür\n",
    "print(32 != 33) #True döndürür\n",
    "print(22 != 22) #False döndürür"
   ]
  },
  {
   "cell_type": "code",
   "execution_count": 34,
   "id": "82d73d67-f106-4937-bc2b-76706fa8abc4",
   "metadata": {},
   "outputs": [
    {
     "name": "stdout",
     "output_type": "stream",
     "text": [
      "False\n",
      "True\n",
      "True\n",
      "True\n"
     ]
    }
   ],
   "source": [
    "print(5 > 98)    #False döndürür\n",
    "print(5 >= 5)    #True döndürür\n",
    "print(12 < 213)  #True döndürür\n",
    "print(12 <= 123) #True döndürür"
   ]
  },
  {
   "cell_type": "markdown",
   "id": "31fb96d8-fd00-4494-a2a3-2ad0175730d3",
   "metadata": {},
   "source": [
    "#### print Fonksiyonu ve Parametreleri\n",
    "##### Parametreleri\n",
    "+ sep = \" \" Her zaman tanımlıdır.İngilizcedeki separator (ayırıcı, ayraç) kelimesinin kısaltmasıdır. \n",
    "+ end = \" \" "
   ]
  },
  {
   "cell_type": "code",
   "execution_count": 38,
   "id": "10066b08-669a-4eda-ae83-7f98f1ca3d0c",
   "metadata": {},
   "outputs": [
    {
     "name": "stdout",
     "output_type": "stream",
     "text": [
      "bir-iki-üç\n"
     ]
    }
   ],
   "source": [
    "# print() fonksiyonu konsola bastırmak için kullanılır. En bilinen iki tane parametresi vardır. Bunlar sep ve end dir.\n",
    "# sep kullanımı\n",
    "print(\"bir\", \"iki\", \"üç\", sep = \"-\") # sep ekrana bastırılacak olan stringlerin arasına ekler"
   ]
  },
  {
   "cell_type": "code",
   "execution_count": 36,
   "id": "74cc3a4d-ed42-4d4d-a218-69f8631bf18f",
   "metadata": {},
   "outputs": [
    {
     "name": "stdout",
     "output_type": "stream",
     "text": [
      "bir iki üç-"
     ]
    }
   ],
   "source": [
    "# end kullanımı\n",
    "print(\"bir\", \"iki\", \"üç\", end = \"-\") #end sona ekler"
   ]
  },
  {
   "cell_type": "code",
   "execution_count": 39,
   "id": "1fb885b1-b603-4689-bc40-55b09a14d73b",
   "metadata": {},
   "outputs": [
    {
     "name": "stdout",
     "output_type": "stream",
     "text": [
      "bir mumdur iki mumdur üç mumdur dört mumdur on dört mumdur"
     ]
    }
   ],
   "source": [
    "#sep ve end kullanımına bir örnek \n",
    "print(\"bir\", \"iki\", \"üç\", \"dört\", \"on dört\",\n",
    "sep=\" mumdur \", end=\" mumdur\")"
   ]
  },
  {
   "cell_type": "markdown",
   "id": "2f0570cc-5bc5-423c-a008-877887580360",
   "metadata": {},
   "source": [
    "#### Kaçış (Escape) Dizileri\n",
    "+ \\\n",
    "+ \\n\n",
    "+ \\t"
   ]
  },
  {
   "cell_type": "code",
   "execution_count": 40,
   "id": "8d65dd65-7d0b-4a55-bcdd-24b03c57046f",
   "metadata": {},
   "outputs": [
    {
     "name": "stdout",
     "output_type": "stream",
     "text": [
      "Türkiye'nin illeri\n"
     ]
    }
   ],
   "source": [
    "# \\ işareti (altgr+*) * işaretinin tuşu 0 tuşunun sağında.\n",
    "print('Türkiye\\'nin illeri') # Bu ifadeyi \\ işareti olmadan yazarsak hata alırız."
   ]
  },
  {
   "cell_type": "code",
   "execution_count": 41,
   "id": "cdc637ad-8bae-475e-ac7c-a476f15e3dcd",
   "metadata": {},
   "outputs": [
    {
     "name": "stdout",
     "output_type": "stream",
     "text": [
      "Bir \n",
      "iki  \n",
      "üç \n",
      "dört\n"
     ]
    }
   ],
   "source": [
    "# \\n bu ifade ingilizcedeki new line ifadesinin kısaltmasından gelir ve başına geldiği string ifadeyi bir alt satıra bastırır.\n",
    "print(\"Bir\", \"\\niki \", \"\\nüç\", \"\\ndört\")"
   ]
  },
  {
   "cell_type": "code",
   "execution_count": 43,
   "id": "e30c504f-f965-4207-9996-5dca3ab3fbca",
   "metadata": {},
   "outputs": [
    {
     "name": "stdout",
     "output_type": "stream",
     "text": [
      "Bir \tiki \tüç\n"
     ]
    }
   ],
   "source": [
    "# \\t bu ifade tab'ın kısaltmasıdır ve başına geldiği string ifadenin 4 adet boşluk yani bir tab bırakarak ekrana bastırılmasını sağlar.\n",
    "print(\"Bir\", \"\\tiki\", \"\\tüç\")"
   ]
  },
  {
   "cell_type": "code",
   "execution_count": 45,
   "id": "786a5345-73d6-4bc2-bca3-021c71d1c866",
   "metadata": {},
   "outputs": [
    {
     "name": "stdout",
     "output_type": "stream",
     "text": [
      "Kasım ayının 4. gününde Python dersinin 1. haftası işlendi.\n"
     ]
    }
   ],
   "source": [
    "# .format() methodu\n",
    "print(\"{} ayının {}. gününde Python dersinin {}. haftası işlendi.\".format(\"Kasım\",4,1))"
   ]
  },
  {
   "cell_type": "code",
   "execution_count": 44,
   "id": "5d8d14eb-2666-4bb3-aeb2-f13f85feaa94",
   "metadata": {},
   "outputs": [
    {
     "name": "stdout",
     "output_type": "stream",
     "text": [
      "Bugün ayın 5. günüdür.\n"
     ]
    }
   ],
   "source": [
    "gün = 5\n",
    "print(\"Bugün ayın {}. günüdür.\".format(gün))"
   ]
  },
  {
   "cell_type": "markdown",
   "id": "2cc91109-8597-41d2-b335-914e94469afa",
   "metadata": {},
   "source": [
    "#### input Fonksiyonu \n",
    "Kullanıcıdan bilgi almak için input fonksiyonu kullanılır.\n"
   ]
  },
  {
   "cell_type": "code",
   "execution_count": 47,
   "id": "c5e6fe1a-aa46-42c3-82a9-7bd0a4747484",
   "metadata": {},
   "outputs": [
    {
     "name": "stdin",
     "output_type": "stream",
     "text": [
      "İsminizi giriniz:  Enes Fehmi Manan\n"
     ]
    },
    {
     "name": "stdout",
     "output_type": "stream",
     "text": [
      "İsmimiz:  Enes Fehmi Manan\n"
     ]
    }
   ],
   "source": [
    "# str tipinde bilgi almak için kullanıcıdan ismini isteyen bir program yazalım.\n",
    "isim = str(input(\"İsminizi giriniz: \"))\n",
    "print(\"İsmimiz: \", isim)"
   ]
  },
  {
   "cell_type": "code",
   "execution_count": 46,
   "id": "beead2b4-f4e6-4a6e-b263-7998af06714d",
   "metadata": {},
   "outputs": [
    {
     "name": "stdin",
     "output_type": "stream",
     "text": [
      "Yaşınızı giriniz:  21\n"
     ]
    },
    {
     "name": "stdout",
     "output_type": "stream",
     "text": [
      "Yaşınız:  21\n"
     ]
    }
   ],
   "source": [
    "# int tipinde bilgi almak için kullanıcıdan yaşını isteyen bir program yazalım.\n",
    "yas = int(input(\"Yaşınızı giriniz: \"))\n",
    "print(\"Yaşınız: \", yas)"
   ]
  },
  {
   "cell_type": "code",
   "execution_count": 48,
   "id": "69115ca6-1390-4d4d-8c6e-3bab79464b45",
   "metadata": {},
   "outputs": [
    {
     "name": "stdin",
     "output_type": "stream",
     "text": [
      "Boyunuzu giriniz:  1.80\n"
     ]
    },
    {
     "name": "stdout",
     "output_type": "stream",
     "text": [
      "Boyunuz:  1.8\n"
     ]
    }
   ],
   "source": [
    "# float tipinde bilgi almak için kullanıcıdan boyunu isteyen bir program yazalım.\n",
    "boy = float(input(\"Boyunuzu giriniz: \"))\n",
    "print(\"Boyunuz: \", boy)"
   ]
  },
  {
   "cell_type": "markdown",
   "id": "dea2e6d7-9d08-4674-b98d-435839a3bdad",
   "metadata": {},
   "source": [
    "## SIRA SİZDE"
   ]
  },
  {
   "cell_type": "markdown",
   "id": "2602fa80-b52a-4515-b34a-7e767ba28559",
   "metadata": {},
   "source": [
    "### print komutu\n",
    "1. print ile ismini konsola bastırmak.\n",
    "2. print ile ismini ve yaşını konsola bastırmak.\n",
    "3. print ile ismini ve yaşını konsola bastıran program. NOT: Yaş değişkeni alt satıra bastırılsın.\n",
    "4. Kullanıcıdan isim bilgisi alan ve konsola bastıran programı kodlayınız.\n",
    "5. Kullanıcıdan isim ve yaş bilgisi alan ve konsola bastıran programı kodlayınız.\n",
    "6. Kullanıcıdan isim, yaş ve bölüm bilgisi alan ve değerler arasında \"-\" karakteri olacak şekilde konsola bastıran programı kodlayınız.\n",
    "7. Yatayda beş yıldız, dikeyde 3 yıldız olacak şekili ekrana bastırınız. \n",
    "8. Türkiye'nin 5 ilini alt alta bastıran programı kodlayınız.\n",
    "9. İsminizin baş harflerini 100 kere konsola bastırınız.\n",
    "10. İsminizin baş harflerini 100 kere konsola dikey bir şekilde bastırınız."
   ]
  }
 ],
 "metadata": {
  "kernelspec": {
   "display_name": "Python 3 (ipykernel)",
   "language": "python",
   "name": "python3"
  },
  "language_info": {
   "codemirror_mode": {
    "name": "ipython",
    "version": 3
   },
   "file_extension": ".py",
   "mimetype": "text/x-python",
   "name": "python",
   "nbconvert_exporter": "python",
   "pygments_lexer": "ipython3",
   "version": "3.9.13"
  }
 },
 "nbformat": 4,
 "nbformat_minor": 5
}
