{
 "cells": [
  {
   "cell_type": "markdown",
   "id": "ad48b5b2-da8b-4a1d-9768-7297d67548b8",
   "metadata": {},
   "source": [
    "### MANTIKSAL OPERATÖRLER\n",
    "+ mantıksal ve işlemi `and`\n",
    "+ mantıksal veya işlemi `or`\n",
    "+ mantıksal değil işlemi `not`"
   ]
  },
  {
   "cell_type": "markdown",
   "id": "b15aee84-2d1a-44ab-9349-56ebe09338a9",
   "metadata": {},
   "source": [
    "#### and operatörü\n",
    "Mantıksal ifadelerin her ikisinin de doğru olması halinde 'True' aksi halde 'False' sonucunu döndürür."
   ]
  },
  {
   "cell_type": "code",
   "execution_count": 7,
   "id": "ac38b1f4-c5d4-4650-9971-c24aaf6508cc",
   "metadata": {},
   "outputs": [
    {
     "name": "stdout",
     "output_type": "stream",
     "text": [
      "True\n",
      "True\n",
      "True\n",
      "True\n"
     ]
    }
   ],
   "source": [
    "# Her iki taraf da doğru olduğunda 'True' döndürür.\n",
    "#      True       True   \n",
    "print(6 == 6 and 7 == 7)\n",
    "print(6 != 1 and 7 != 4)\n",
    "print(6 > 1 and 9 != 3)\n",
    "print(6 >= 6 and 123 <= 999)"
   ]
  },
  {
   "cell_type": "code",
   "execution_count": 5,
   "id": "1c3cacd6-cc09-4773-8ba5-a467c5a9821f",
   "metadata": {},
   "outputs": [
    {
     "name": "stdout",
     "output_type": "stream",
     "text": [
      "False\n",
      "False\n",
      "False\n"
     ]
    }
   ],
   "source": [
    "# Bir taraf doğru bir taraf yanlış olduğunda 'False' döndürür.\n",
    "#        True          False\n",
    "print(123 == 123 and 44 == 45)\n",
    "print(77 > 48 and 999 <= 100)\n",
    "#        False         True\n",
    "print(89 != 89 and 221 != 222)"
   ]
  },
  {
   "cell_type": "code",
   "execution_count": 8,
   "id": "9c46b150-1663-4069-aa5b-1c2885145f11",
   "metadata": {},
   "outputs": [
    {
     "name": "stdout",
     "output_type": "stream",
     "text": [
      "False\n"
     ]
    }
   ],
   "source": [
    "# Her iki taraf da yanlış olduğunda 'False' döndürür.\n",
    "#        False       False\n",
    "print(23 == 0 and 10000 < 178)"
   ]
  },
  {
   "cell_type": "markdown",
   "id": "7b10f162-c71a-416c-99f9-5ec1afb0fbab",
   "metadata": {},
   "source": [
    "### or operatörü\n",
    "Mantıksal ifaderlerden herhangi birinin doğru olması halinde 'True' aksi halde 'False' sonucunu döndürür. "
   ]
  },
  {
   "cell_type": "code",
   "execution_count": 9,
   "id": "2e40fa88-f1ff-4dd3-af5a-0ce7a9edf259",
   "metadata": {},
   "outputs": [
    {
     "name": "stdout",
     "output_type": "stream",
     "text": [
      "True\n"
     ]
    }
   ],
   "source": [
    "# Her iki taraf da doğru olduğunda 'True' döndürür.\n",
    "#      True       True   \n",
    "print(621 == 621 or 0 != 7)"
   ]
  },
  {
   "cell_type": "code",
   "execution_count": 12,
   "id": "454d9a2a-5d1f-470c-b65e-24e5c8862a1e",
   "metadata": {},
   "outputs": [
    {
     "name": "stdout",
     "output_type": "stream",
     "text": [
      "True\n",
      "True\n",
      "True\n"
     ]
    }
   ],
   "source": [
    "# Bir taraf doğru bir taraf yanlış olduğunda 'True' döndürür.\n",
    "#        True          False\n",
    "print(631 == 631 or 19 == 45)\n",
    "print(97 > 18 or 109 <= 10)\n",
    "#        False         True\n",
    "print(19 != 19 or 10 != 100)"
   ]
  },
  {
   "cell_type": "code",
   "execution_count": 16,
   "id": "cd00d8c7-7c3b-4c69-a4be-4ad1b3786e1a",
   "metadata": {},
   "outputs": [
    {
     "name": "stdout",
     "output_type": "stream",
     "text": [
      "False\n"
     ]
    }
   ],
   "source": [
    "# Her iki taraf da yanlış olduğunda 'False' döndürür.\n",
    "#        False       False\n",
    "print(23 < 0 or 19 <= 1)"
   ]
  },
  {
   "cell_type": "markdown",
   "id": "56158e2c-cbd2-4798-bfa0-ddd75070abaa",
   "metadata": {},
   "source": [
    "#### not operatörü\n",
    "Mantıksal DEĞİL operatörüdür, ifadenin tersini alır. İfade doğru ise 'False', yanlış ise 'True' sonucunu döndürür."
   ]
  },
  {
   "cell_type": "code",
   "execution_count": 18,
   "id": "5b093d3c-a8dc-4113-a789-2e322f6c8281",
   "metadata": {},
   "outputs": [
    {
     "name": "stdout",
     "output_type": "stream",
     "text": [
      "False\n",
      "True\n"
     ]
    }
   ],
   "source": [
    "print(not(6 == 6)) # Normalde 'True' döner, değilini aldığımız için 'False' dönecek.\n",
    "print(not(144 != 144)) # Normalde 'False' döner, değilini aldığımız için 'True' dönecek."
   ]
  },
  {
   "cell_type": "markdown",
   "id": "8326ef8c-8a65-4e18-87a0-b8a98925854f",
   "metadata": {},
   "source": [
    "### KARAR YAPILARI\n",
    "`if-elif-else`"
   ]
  },
  {
   "cell_type": "markdown",
   "id": "89584da5-483a-4b64-9fb0-6cca3ff25e25",
   "metadata": {},
   "source": [
    "### Tek seçimli yapı if:\n",
    "Koşula bağlı olarak tek bir işlemi yerine getiren yani şartlı dallanm işlemini gerçekleştiren yapıdır."
   ]
  },
  {
   "cell_type": "code",
   "execution_count": null,
   "id": "882f286f-49e0-482f-ac37-b002c4ca749e",
   "metadata": {},
   "outputs": [],
   "source": [
    "# girilen sayının tek mi çift mi olduğunu hesaplayan programı kodlayalım.\n",
    "sayi = int(input(\"Bir sayi giriniz: \"))\n",
    "if (sayi % 2 == 0):\n",
    "    print(\"Sayı çifttir\")\n",
    "if (sayi % 2 != 0):\n",
    "    print(\"Sayı tektir\")"
   ]
  },
  {
   "cell_type": "markdown",
   "id": "0f0c8ed3-41ef-4bb6-a2ae-498239a2483a",
   "metadata": {},
   "source": [
    "### Çift seçimli yapı if/else:\n",
    "Koşulun gerçekleşip gerçekleşmeme durumuna göre iki farklı işlemi yerine getiren, yani şarta bağlı olarak farklı yollara sapan yapıdır."
   ]
  },
  {
   "cell_type": "code",
   "execution_count": null,
   "id": "e0df680e-af2b-4dad-9ffb-2ea719e47102",
   "metadata": {},
   "outputs": [],
   "source": [
    "# kişinin aldığı nota göre sınavdan geçti ya da kaldı yazan programı kodlayalım. Geçme notu = 60\n",
    "alınan_not = int(input(\"Notunuzu giriniz: \"))\n",
    "if (alınan_not >= 60):\n",
    "    print(\"Sınavdan geçtiniz!\")\n",
    "else:\n",
    "    print(\"Sınavdan kaldınız!\")"
   ]
  },
  {
   "cell_type": "markdown",
   "id": "c6a834c2-59f5-4397-a866-ee85e448b541",
   "metadata": {
    "tags": []
   },
   "source": [
    "### Çok seçimli yapı elif:\n",
    "Üç ve daha fazla koşul durumunda if ve elif komutları merdiven şeklinde alt alta kullanılır. \n",
    "\n",
    "`elif:` 'Değilse Eğer' anlamında kullanılan bir komuttur."
   ]
  },
  {
   "cell_type": "code",
   "execution_count": null,
   "id": "ce679954-52cb-4282-b865-fa0e6d14326a",
   "metadata": {},
   "outputs": [],
   "source": [
    "# alınan notu harf notuna çeviren programı kodlayalım\n",
    "alınan_not = int(input(\"0-100 arasında notunuzu giriniz: \")) \n",
    "if (alınan_not >= 90 and alınan_not <= 100):\n",
    "    print(\"AA\")\n",
    "elif (alınan_not >= 80 and alınan_not < 90):\n",
    "    print(\"BA\")\n",
    "elif (alınan_not >= 70 and alınan_not < 80):\n",
    "    print(\"BB\")\n",
    "elif (alınan_not >= 60 and alınan_not < 70):\n",
    "    print(\"CB\")\n",
    "elif (alınan_not >= 50 and alınan_not < 60):\n",
    "    print(\"CC\")\n",
    "else:\n",
    "    print(\"FF\")"
   ]
  },
  {
   "cell_type": "markdown",
   "id": "e2ef26f8-c5d3-4044-8ef0-be0ad13d27af",
   "metadata": {},
   "source": [
    "### Karar ağacı: iç içe karar yapıları"
   ]
  },
  {
   "cell_type": "code",
   "execution_count": null,
   "id": "933a4ba3-d8d8-450a-be08-0d174ea05f9c",
   "metadata": {
    "tags": []
   },
   "outputs": [],
   "source": [
    "print(\"\"\"\n",
    "         --------------------------\n",
    "           Elektronik Eşya Bulucu\n",
    "         --------------------------\n",
    "        \\nAklından bir elektronik eşya tut!\\n\"\"\")\n",
    "cvp = input(\"Elektronik mi? [E/H]\")\n",
    "if cvp =='E' or cvp == 'e':\n",
    "    cvp1 = input(\"Taşınabilir mi? [E/H]\")\n",
    "    if cvp1 =='E' or cvp1 == 'e':\n",
    "        cvp2 = input(\"Kola takılabilir mi? [E/H]\")\n",
    "        if cvp2 =='E' or cvp2 == 'e':\n",
    "            print(\"Tamam buldum, Akıllı Saat!\")\n",
    "        else:\n",
    "            cvp3 = input(\"Konuşmak için kullanılır mı? [E/H]\")\n",
    "            if cvp3 =='E' or cvp3 == 'e':\n",
    "                print(\"Tamam buldum, Telefon!\")\n",
    "            else:\n",
    "                cvp4 = input(\"Bir uygulama çalıştırır mı? [E/H]\")\n",
    "                if cvp4 =='E' or cvp4 == 'e':\n",
    "                    print(\"Tamam buldum, Tablet!\")\n",
    "                else:\n",
    "                    cvp5 = input(\"Video çeker mi? [E/H]\")\n",
    "                    if cvp5 =='E' or cvp5 == 'e':\n",
    "                        print(\"Tamam buldum, Kamera!\")\n",
    "                    else:\n",
    "                        cvp6 = input(\"Fotoğraf çeker mi? [E/H]\")\n",
    "                        if cvp6 =='E' or cvp6 == 'e':\n",
    "                            print(\"Tamam buldum, Fotoğraf Makinesi!\")\n",
    "                        else:\n",
    "                            cvp7 = input(\"Müzik dinlenir mi? [E/H]\")\n",
    "                            if cvp7 =='E' or cvp7 == 'e':\n",
    "                                print(\"Tamam buldum, Radyo!\")\n",
    "                            else:\n",
    "                                print(\"Bilemedim! Elektronik değil mi?\")\n",
    "     \n",
    "    #taşınamaz ise\n",
    "    else:\n",
    "        cvp8 = input(\"Film izlenir mi? [E/H]\")\n",
    "        if cvp8 =='E' or cvp8 == 'e':\n",
    "            print(\"Tamam buldum, Televizyon!\")\n",
    "        else:\n",
    "            cvp9 = input(\"Beyaz Eşya mı? [E/H]\")\n",
    "            if cvp9 =='E' or cvp9 == 'e':\n",
    "                cvp10 = input(\"Bir şey yıkar mı[E/H]\")\n",
    "                if cvp10 =='E' or cvp10 == 'e':\n",
    "                    cvp11 = input(\"Çamaşır yıkar mı[E/H]\")\n",
    "                    if cvp11 =='E' or cvp11 == 'e':\n",
    "                        print(\"Tamam buldum, Çamaşır Makinesi!\")\n",
    "                    else:\n",
    "                        print(\"Tamam buldum, Bulaşık Makinesi!\")\n",
    "                else:\n",
    "                    print(\"Tamam buldum, Buzdolabı!\")\n",
    "            else:\n",
    "                print(\"Üzgünüm! Tahmin edemedim.\")\n",
    "else:\n",
    "    print(\"Elektronik eşya tut!\")"
   ]
  },
  {
   "cell_type": "markdown",
   "id": "e96cb505-3883-4fb5-bcb6-f9e8520e81d0",
   "metadata": {},
   "source": [
    "![resim3](3.jpg)\n",
    "\n",
    "[kaynak](https://in.pinterest.com/pin/691513717767930757/)"
   ]
  },
  {
   "cell_type": "markdown",
   "id": "ddf8ccba-c4ec-4e61-a59f-87f85ea6db74",
   "metadata": {
    "tags": []
   },
   "source": [
    "#### Örnek: Girilen iki sayının hangisinin daha büyük olduğunu ekrana yazdıran programı kodlayınız. Eğer sayılar eşitse ekrana sayılar eşittir yazısı yazsın."
   ]
  },
  {
   "cell_type": "code",
   "execution_count": null,
   "id": "a95be536-cc7a-47a8-9b7b-0b22178b5d4b",
   "metadata": {
    "tags": []
   },
   "outputs": [],
   "source": [
    "sayi1 = int(input(\"1. sayıyı giriniz: \"))\n",
    "sayi2 = int(input(\"2. sayıyı giriniz: \"))\n",
    "if(sayi1 > sayi2):\n",
    "    print(\"{} sayısı {} sayısından daha büyüktür\".format(sayi1,sayi2))\n",
    "elif(sayi1 < sayi2):\n",
    "    print(\"{} sayısı {} sayısından daha büyüktür\".format(sayi2,sayi1))\n",
    "else:\n",
    "    print(\"Girilen sayılar eşittir.\")"
   ]
  }
 ],
 "metadata": {
  "kernelspec": {
   "display_name": "Python 3 (ipykernel)",
   "language": "python",
   "name": "python3"
  },
  "language_info": {
   "codemirror_mode": {
    "name": "ipython",
    "version": 3
   },
   "file_extension": ".py",
   "mimetype": "text/x-python",
   "name": "python",
   "nbconvert_exporter": "python",
   "pygments_lexer": "ipython3",
   "version": "3.9.13"
  }
 },
 "nbformat": 4,
 "nbformat_minor": 5
}
