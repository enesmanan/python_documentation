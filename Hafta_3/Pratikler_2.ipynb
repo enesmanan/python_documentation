{
 "cells": [
  {
   "cell_type": "markdown",
   "id": "39ddd579-2631-481c-a460-a3834fb9d311",
   "metadata": {},
   "source": [
    "### Girilen sayının tek mi çift mi olduğunu bulan program\n",
    "Problem açıklaması: Kullanıcıdan alınan sayı eğer tek ise ekrana tek yazdıran, çift ise çift yazdıran program."
   ]
  },
  {
   "cell_type": "code",
   "execution_count": null,
   "id": "04476304-7cc9-4355-bc9e-37ab3c5d4ee2",
   "metadata": {},
   "outputs": [],
   "source": [
    "sayi = int(input(\"Bir sayi giriniz: \"))\n",
    "if(sayi % 2 == 0): # sayının ikiye bölümünden kalan 0 ise \n",
    "    print(\"{} sayisi çifttir.\".format(sayi))\n",
    "else:\n",
    "    print(\"{} sayisi tektir.\".format(sayi))"
   ]
  },
  {
   "cell_type": "markdown",
   "id": "8fbf0134-a968-4988-8308-10dee125b64d",
   "metadata": {},
   "source": [
    "### Girilen nota göre geçtiniz ya da kaldınız yazan program\n",
    "Problem açıklaması: Kullanıcıdan alınan not eğer 60'a eşit veya 60'tan büyükse ekrana geçtiniz yazsın, 60'tan küçükse ekrana kaldınız yazsın."
   ]
  },
  {
   "cell_type": "code",
   "execution_count": null,
   "id": "9e3e4e16-6296-4943-8884-b6893d47e269",
   "metadata": {},
   "outputs": [],
   "source": [
    "notunuz = int(input(\"Notunuzu giriniz: \"))\n",
    "if(notunuz >= 60):\n",
    "    print(\"Geçtiniz!\")\n",
    "else:\n",
    "    print(\"Kaldınız!\")"
   ]
  },
  {
   "cell_type": "markdown",
   "id": "a9276b18-68a5-49f8-a856-a30cba8484e7",
   "metadata": {},
   "source": [
    "### Girilen nota göre geçtiniz ya da kaldınız yazan program V2\n",
    "Problem açıklaması: Kullanıcıdan alınan not eğer 60'a eşit veya 60'tan büyükse ekrana geçtiniz yazsın, 60'tan küçükse ekrana kaldınız yazsın.\n",
    "\n",
    "Not: Kullanıcıdan alınacak not değişkeni 1 ile 100 arasında olsun eğer arasında değil ise \"1 ile 100 arasında bir not giriniz\" mesajı ekrana yazdırılsın."
   ]
  },
  {
   "cell_type": "code",
   "execution_count": null,
   "id": "0ea7dcbd-fba6-4dc6-bfdd-d04740b61975",
   "metadata": {},
   "outputs": [],
   "source": [
    "notunuz = int(input(\"Notunuzu giriniz: \"))\n",
    "if not(notunuz >= 0 and notunuz <= 100):\n",
    "    print(\"1 ile 100 arasında bir not giriniz.\")\n",
    "elif(notunuz >= 60):\n",
    "    print(\"Geçtiniz!\")\n",
    "else:\n",
    "    print(\"Kaldınız!\")"
   ]
  },
  {
   "cell_type": "markdown",
   "id": "6b3972ff-55b3-4b16-a4b1-1bbf2277979f",
   "metadata": {},
   "source": [
    "### Girilen nota göre geçtiniz ya da kaldınız yazan program V3\n",
    "Problem açıklaması: Kullanıcıdan alınan not 60'a eşit ise sorumlu geçtiniz, 60'tan büyükse ekrana geçtiniz yazsın, 60'tan küçükse ekrana kaldınız yazsın.\n",
    "\n",
    "Not: Kullanıcıdan alınacak not değişkeni 1 ile 100 arasında olsun eğer arasında değil ise \"1 ile 100 arasında bir not giriniz\" mesajı ekrana yazdırılsın."
   ]
  },
  {
   "cell_type": "code",
   "execution_count": null,
   "id": "ede336cc-989c-4c91-9ab2-877685bfb085",
   "metadata": {},
   "outputs": [],
   "source": [
    "notunuz = int(input(\"Notunuzu giriniz: \"))\n",
    "if not(notunuz >= 0 and notunuz <= 100):\n",
    "    print(\"1 ile 100 arasında bir not giriniz.\")\n",
    "elif(notunuz == 60):\n",
    "    print(\"Sorumlu geçtiniz: \")\n",
    "elif(notunuz > 60):\n",
    "    print(\"Geçtiniz!\")\n",
    "else:\n",
    "    print(\"Kaldınız!\")"
   ]
  },
  {
   "cell_type": "markdown",
   "id": "8171c842-8693-4194-8f09-03564b4f19bf",
   "metadata": {},
   "source": [
    "### Girilen sayının pozitif ya da negatif olduğunu bulan program\n",
    "Problem açıklaması: Klavyeden alınan sayının pozitif ise ekran pozitiftir, girilen sayı negatif ise ekrana negatiftir, girilen sayı sıfır ise ekrana sıfırdır yazsın."
   ]
  },
  {
   "cell_type": "code",
   "execution_count": null,
   "id": "5d0f2f1b-3d87-451e-9666-997234dd1895",
   "metadata": {},
   "outputs": [],
   "source": [
    "sayi = int(input(\"Bir sayi giriniz: \"))\n",
    "if(sayi > 0):\n",
    "    print(\"Girilen sayi pozitiftir\")\n",
    "elif(sayi < 0):\n",
    "    print(\"Girilen sayi negatiftir\")\n",
    "else:\n",
    "    print(\"Girilen sayi sıfıra eşittir\")"
   ]
  },
  {
   "cell_type": "markdown",
   "id": "64f7b1ec-ac5c-4cc2-b7a7-2214c9c261fa",
   "metadata": {},
   "source": [
    "### Kullanıcı adı ve parola kontrolü yapan program\n",
    "Problem açıklaması: Klavyeden girilen kullanıcı adı ve parola doğru ise programa hoşgeldiniz yanlış ise hatalı giriş mesajını ekrana yazdıran programı kodlayınız."
   ]
  },
  {
   "cell_type": "code",
   "execution_count": null,
   "id": "d2a11bef-74d0-4c4d-a41b-476e8957b85e",
   "metadata": {},
   "outputs": [],
   "source": [
    "kullanıcı_adı = str(input(\"Kullanıcı adınızı giriniz: \"))\n",
    "sifre = int(input(\"Şifrenizi giriniz: \"))\n",
    "if(kullanıcı_adı == \"Enes\" and sifre == 13579):\n",
    "    print(\"Programa hoşgeldiniz!\")\n",
    "else:\n",
    "    print(\"Hatalı giriş!\")"
   ]
  },
  {
   "cell_type": "markdown",
   "id": "393e5520-1438-4fa3-a572-49865705ad13",
   "metadata": {},
   "source": [
    "### Kullanıcı adı ve parola kontrolü yapan program V2"
   ]
  },
  {
   "cell_type": "code",
   "execution_count": null,
   "id": "cdbd38c0-2feb-4dcd-8ed8-94c52637c070",
   "metadata": {},
   "outputs": [],
   "source": [
    "kullanıcı_adı = \"Enes\"\n",
    "sifre = 13579\n",
    "\n",
    "girilen_ad = str(input(\"Kullanıcı adınızı giriniz: \"))\n",
    "girilen_sifre =int(input(\"Şifrenizi giriniz: \"))\n",
    "\n",
    "if (girilen_ad == kullanıcı_adı):\n",
    "    if (girilen_sifre == sifre):\n",
    "        print(\"Programa hoşgeldiniz!\")\n",
    "    else:\n",
    "        print(\"Yanlış şifre girdiniz!\")\n",
    "else:\n",
    "    print(\"Yanlış kullanıcı adı girdiniz!\")"
   ]
  },
  {
   "cell_type": "markdown",
   "id": "d5ef6d24-ef0c-4e0e-9be0-8cd5427b16ee",
   "metadata": {},
   "source": [
    "### Üç sayıdan hangisinin daha büyük olduğunu bulan program\n",
    "Problem açıklaması: Klavyeden girilen 3 sayıdan hangisinin daha büyük olduğunu bulsun ve ekrana yazdırsın."
   ]
  },
  {
   "cell_type": "code",
   "execution_count": null,
   "id": "e71275fe-9a08-4c8f-81ab-e38662d17f99",
   "metadata": {},
   "outputs": [],
   "source": [
    "sayi1 = int(input(\"Birinci sayıyı giriniz: \"))\n",
    "sayi2 = int(input(\"İkinci sayıyı giriniz: \"))\n",
    "sayi3 = int(input(\"Üçüncü sayıyı giriniz: \"))\n",
    "\n",
    "if (sayi1 > sayi2) and (sayi1 > sayi3):\n",
    "    print(\"{} en büyük sayıdır.\".format(sayi1))\n",
    "elif (sayi2 > sayi1) and (sayi2 > sayi3):\n",
    "    print(\"{} en büyük sayıdır.\".format(sayi2))\n",
    "elif (sayi3 > sayi1) and (sayi3 > sayi2):\n",
    "    print(\"{} en büyük sayıdır.\".format(sayi3))"
   ]
  },
  {
   "cell_type": "markdown",
   "id": "16cbf33d-95ca-4012-924f-2c5ea7f867ab",
   "metadata": {},
   "source": [
    "### Üç sayıdan hangisinin daha büyük olduğunu bulan program V2\n",
    "Problem açıklaması: Klavyeden girilen 3 sayıdan hangisinin daha büyük olduğunu bulsun ve ekrana yazdırsın.\n",
    "\n",
    "Not: Sayılar eşit ise girilen üç sayı eşittir yazdırsın."
   ]
  },
  {
   "cell_type": "code",
   "execution_count": null,
   "id": "942aa94d-6512-4c48-b890-816bfca6bfd6",
   "metadata": {},
   "outputs": [],
   "source": [
    "sayi1 = int(input(\"Birinci sayıyı giriniz: \"))\n",
    "sayi2 = int(input(\"İkinci sayıyı giriniz: \"))\n",
    "sayi3 = int(input(\"Üçüncü sayıyı giriniz: \"))\n",
    "\n",
    "if (sayi1 > sayi2) and (sayi1 > sayi3):\n",
    "    print(\"{} en büyük sayıdır.\".format(sayi1))\n",
    "elif (sayi2 > sayi1) and (sayi2 > sayi3):\n",
    "    print(\"{} en büyük sayıdır.\".format(sayi2))\n",
    "elif (sayi3 > sayi1) and (sayi3 > sayi2):\n",
    "    print(\"{} en büyük sayıdır.\".format(sayi3))\n",
    "else:\n",
    "    print(\"Girilen üç sayı eşittir.\")"
   ]
  },
  {
   "cell_type": "markdown",
   "id": "cd3cb0ee-ef59-45fb-b23b-c7804645fafc",
   "metadata": {},
   "source": [
    "### Kayıt ekranı örneği\n",
    "Problem açıklaması: Uygulamanız için kayıt ekranı yaptığınızı düşünün, kullanıcının uygulamaya kaydolabilmesi için kullanıcı adının ve şifresinin toplam karakter sayısının 40'tan fazla olmaması gerekiyor. Klavyeden alınan kullancı adının ve parolanın gerekli şartları sağlayıp sağlamamasına göre programın koşullu yapısını kodlayınız."
   ]
  },
  {
   "cell_type": "code",
   "execution_count": null,
   "id": "414591ec-d01f-43b1-b54c-66a2cda59bab",
   "metadata": {},
   "outputs": [],
   "source": [
    "kullanıcı_adı = input(\"Kullanıcı adınızı giriniz: \")\n",
    "parola = input(\"Parolanızı giriniz: \")\n",
    "\n",
    "toplam_uzunluk = len(kullanıcı_adı) + len(parola)\n",
    "\n",
    "print(\"Kullanıcı adınız {} karakterden oluşuyor\".format(toplam_uzunluk))\n",
    "\n",
    "if (toplam_uzunluk > 40):\n",
    "    print(\"Kullanıcı adınız ile parolanızın toplam uzunluğu 40 karakteri geçmemeli!\")\n",
    "else:\n",
    "    print(\"Sisteme hoşgeldiniz!\")"
   ]
  },
  {
   "cell_type": "markdown",
   "id": "d7afbd68-c759-404f-9bf6-199d095012bf",
   "metadata": {},
   "source": [
    "### Klavyeden girilen harfin ünlü ya da ünsüz olduğunu bulan program"
   ]
  },
  {
   "cell_type": "code",
   "execution_count": null,
   "id": "918b6962-6346-4cfe-81fb-0e4cdb255231",
   "metadata": {},
   "outputs": [],
   "source": [
    "harf = str(input(\"Bir karakter giriniz: \"))\n",
    "\n",
    "uzunluk = len(harf)\n",
    "if (uzunluk > 1):\n",
    "    print(\"Sadece tek bir harf girebilirsiniz.\")\n",
    "else:\n",
    "    if (harf >= \"a\" and harf <= \"z\") or (harf >= \"A\" and harf <= \"Z\"):\n",
    "        if (harf ==\"a\" or harf ==\"e\" or harf ==\"i\" or harf ==\"o\" or harf == \"u\"):\n",
    "            print(\"{} harfi ünlü bir harftir.\".format(harf))\n",
    "        elif (harf == \"A\" or harf ==\"E\" or harf == \"I\" or harf == \"O\" or harf == \"U\"):\n",
    "            print(\"{} harfi ünlü bir harftir.\".format(harf))\n",
    "        else:\n",
    "            print(\"{} harfi ünsüz bir harftir.\".format(harf))\n",
    "    else:\n",
    "        print(\"Girilen karakter '{}' bir harf değil.\".format(harf))"
   ]
  },
  {
   "cell_type": "markdown",
   "id": "b471aeb7-f24c-40b4-8ee3-06d26c81ea37",
   "metadata": {},
   "source": [
    "### Yapılan alışveriş miktarına göre indirim yapan program"
   ]
  },
  {
   "cell_type": "code",
   "execution_count": null,
   "id": "0cc8fc65-0857-421a-b929-00dd0dc0dfc9",
   "metadata": {},
   "outputs": [],
   "source": [
    "tutar = float(input(\"Alışveriş yaptığınız tutarı giriniz:\"))\n",
    "if(tutar <= 100 and tutar >= 0):\n",
    "    yeni_tutar = tutar * 0.9\n",
    "elif(tutar > 100 and tutar <= 200):\n",
    "    yeni_tutar = utar*0.8\n",
    "elif(tutar > 200 and tutar <= 300):\n",
    "    yeni_tutar = tutar * 0.7\n",
    "else:\n",
    "     yeni_tutar = tutar*0.6\n",
    "print(\"Ödeyeceğiniz tutar: \", yeni_tutar)"
   ]
  },
  {
   "cell_type": "markdown",
   "id": "1ca96f7b-59bc-44c9-b49e-2e5716cbd0c2",
   "metadata": {},
   "source": [
    "### İkinci dereceden bir denklemin köklerini hesaplayan program\n",
    "Problem açıklaması: Klavyeden üç adet katsayısı girilen ikinci dereceden denklemin köklerini hesaplayan program.\n",
    "\n",
    "Denklem = $ax^2+bx+c$\n",
    "\n",
    "Diskriminant: D = $b^2-4ac$"
   ]
  },
  {
   "cell_type": "code",
   "execution_count": null,
   "id": "82e8f347-91bf-4955-8f2e-8ae247c82561",
   "metadata": {},
   "outputs": [],
   "source": [
    "import math # Python'da matematiksel işlemler yapmamızı sağlayan bir kütüphane\n",
    "a = float(input(\"Katsayi a giriniz:\"))\n",
    "b = float(input(\"Katsayi b giriniz:\"))\n",
    "c = float(input(\"Katsayi c giriniz:\"))\n",
    "D = (b**2)-4*a*c\n",
    "if (D > 0): # Farklı iki kök vardır\n",
    "    x1 = (-b+math.sqrt(D))/2*a\n",
    "    x2 = (-b-math.sqrt(D))/2*a\n",
    "    print(\"Kok 1 (x1) = \", x1)\n",
    "    print(\"Kok 2 (x2) = \", x2)\n",
    "elif (D == 0): # Birbirine eşit iki kök vardır\n",
    "    x1 = (-b+math.sqrt(D))/2*a\n",
    "    print(\"Kok 1 (x1) = \", x1)\n",
    "else: \n",
    "    print(\"Reel kokler yoktur.\")"
   ]
  },
  {
   "cell_type": "markdown",
   "id": "d0dc4207-5d6d-4594-a371-9fed5cb844d9",
   "metadata": {},
   "source": [
    "### Vücüt kitle indeksi hesaplayan program\n",
    "Formül = $kilo / boy^2$"
   ]
  },
  {
   "cell_type": "code",
   "execution_count": null,
   "id": "fe3ddefa-2e60-4a74-97df-b0dc633c0f2e",
   "metadata": {},
   "outputs": [],
   "source": [
    "kg = float(input(\"Kilonuzu giriniz: \"))\n",
    "boy = float(input(\"Boyunuzu giriniz: \"))\n",
    "\n",
    "indeks = kg / (boy ** 2)\n",
    "\n",
    "if (indeks >= 0) and (indeks <= 18.4):\n",
    "    print(\"Vucut kitle endeksin: {}  \\nVucut kitle indeksine göre zayıfsın.\".format(indeks))\n",
    "elif (indeks > 18.4) and (indeks <= 24.9):\n",
    "    print(\"Vucut kitle endeksin: {}  \\nVucut kitle indeksine göre normalsin.\".format(indeks))\n",
    "elif (indeks > 24.9) and (indeks<=29.9):\n",
    "    print(\"Vucut kitle endeksin: {}  \\nVucut kitle indeksine göre kilolusun.\".format(indeks))\n",
    "elif (indeks >= 29.9) and (indeks <= 45.9):\n",
    "    print(\"Vucut kitle endeksin: {}  \\nVucut kitle indeksine göre obezsin.\".format(indeks))\n",
    "else:\n",
    "    print(\"Yanlış bilgi girdiniz.\")"
   ]
  },
  {
   "cell_type": "markdown",
   "id": "90fb1a67-508c-48e7-b13e-a5f53d8b80c7",
   "metadata": {},
   "source": [
    "### Rastgele bir şekilde gelen ruh haline göre ekrana emoji çıkartan program"
   ]
  },
  {
   "cell_type": "code",
   "execution_count": null,
   "id": "3399c4b6-be44-4054-9cd0-5c80866ee27f",
   "metadata": {},
   "outputs": [],
   "source": [
    "import random # Rastgele sayı üretmemizi sağlayan kütüphane\n",
    "\n",
    "mood = random.randint(1,3) # 1 ile 3 arasında rastgele sayı üretir\n",
    "\n",
    "if(mood == 1):\n",
    "    print(\"Gayet mutlusun!\",\"\\U0001f600\")\n",
    "elif(mood == 2):\n",
    "    print(\"Biraz hüzünlüsün.\", \"\\U0001F61F\")\n",
    "elif(mood == 3):\n",
    "    print(\"Biraz mutsuz gibisin...\", \"\\U0001F615\")\n",
    "else:\n",
    "    print(\"Uçuyorsun!!!\")"
   ]
  },
  {
   "cell_type": "markdown",
   "id": "878d018a-58a3-435e-8eb0-843b2c5b4d5d",
   "metadata": {},
   "source": [
    "### İki sayının yerini değiştiren program\n",
    "Problem açıklaması: Klavyeden alınan iki sayının yerini değiştiren program."
   ]
  },
  {
   "cell_type": "code",
   "execution_count": null,
   "id": "9a9cd7e2-b492-4fe6-ae17-be64fa759593",
   "metadata": {},
   "outputs": [],
   "source": [
    "sayi1 = int(input(\"İlk sayıyı giriniz: \"))\n",
    "sayi2 = int(input(\"İkinci sayıyı giriniz: \"))\n",
    "# temp adında bir geçici değişken tanımlıyoruz\n",
    "temp = sayi1\n",
    "sayi1 = sayi2\n",
    "sayi2 = temp\n",
    "\n",
    "print(\"sayi1 =\", sayi1)\n",
    "print(\"sayi2 =\", sayi2)"
   ]
  }
 ],
 "metadata": {
  "kernelspec": {
   "display_name": "Python 3 (ipykernel)",
   "language": "python",
   "name": "python3"
  },
  "language_info": {
   "codemirror_mode": {
    "name": "ipython",
    "version": 3
   },
   "file_extension": ".py",
   "mimetype": "text/x-python",
   "name": "python",
   "nbconvert_exporter": "python",
   "pygments_lexer": "ipython3",
   "version": "3.9.13"
  }
 },
 "nbformat": 4,
 "nbformat_minor": 5
}
