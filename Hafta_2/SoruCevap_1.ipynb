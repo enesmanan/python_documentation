{
 "cells": [
  {
   "cell_type": "markdown",
   "id": "07f72d78-f648-4d31-9a05-2bd928ad7600",
   "metadata": {},
   "source": [
    "## SORU-CEVAP"
   ]
  },
  {
   "cell_type": "markdown",
   "id": "9584ae7d-8865-443b-8b76-e318a6198ccf",
   "metadata": {},
   "source": [
    "1. Python programlama dilinin dosya uzantısı nedir?"
   ]
  },
  {
   "cell_type": "markdown",
   "id": "d3d67470-c118-40cc-af45-03dd69453885",
   "metadata": {
    "tags": []
   },
   "source": [
    ".py"
   ]
  },
  {
   "cell_type": "markdown",
   "id": "48802986-9f10-4bd5-926f-fd63c7a4a31c",
   "metadata": {},
   "source": [
    "2. Python dilinde açıklama/yorum satırları için hangi simge kullanılır?"
   ]
  },
  {
   "cell_type": "markdown",
   "id": "303816ab-ca07-408b-a1d6-e47a2c9efc9f",
   "metadata": {
    "jp-MarkdownHeadingCollapsed": true,
    "tags": []
   },
   "source": [
    "`#`"
   ]
  },
  {
   "cell_type": "markdown",
   "id": "ff355b4f-b6a2-4776-b486-0fc9c0b073f9",
   "metadata": {},
   "source": [
    "3. Resmi python editörünün ismi nedir?"
   ]
  },
  {
   "cell_type": "markdown",
   "id": "8cc1cae3-901f-46a7-be49-a4e951f89cb7",
   "metadata": {
    "tags": []
   },
   "source": [
    "idle"
   ]
  },
  {
   "cell_type": "markdown",
   "id": "7dcacdf4-eda3-47f2-aabe-32fa533fd41a",
   "metadata": {},
   "source": [
    "4. input() fonksiyonu varsayılan olarak hangi tipte veri alır?"
   ]
  },
  {
   "cell_type": "markdown",
   "id": "0a123faf-1a1b-42d0-953c-405ea4c598f4",
   "metadata": {
    "tags": []
   },
   "source": [
    "string"
   ]
  },
  {
   "cell_type": "markdown",
   "id": "17b244b0-656e-4233-a21a-9f12a6d53796",
   "metadata": {},
   "source": [
    "5. Python dilinde bir verinin (değişkenin veya fonksiyonun) tipini öğrenmek için hangi fonksiyon kullanılır?"
   ]
  },
  {
   "cell_type": "markdown",
   "id": "081db0e3-f39b-498d-a88c-f5e7d71511ff",
   "metadata": {
    "tags": []
   },
   "source": [
    "`type()`"
   ]
  },
  {
   "cell_type": "code",
   "execution_count": 1,
   "id": "0ac7fac3-aed6-4224-9924-6ab0bf86efc0",
   "metadata": {},
   "outputs": [
    {
     "name": "stdout",
     "output_type": "stream",
     "text": [
      "19\n"
     ]
    }
   ],
   "source": [
    "# asagıdaki programın ekran çıktısı ne olur?\n",
    "print(str(1) + str(9))"
   ]
  },
  {
   "cell_type": "code",
   "execution_count": 1,
   "id": "4871cb8a-6221-4ec9-ae93-ce74cd0b0c63",
   "metadata": {},
   "outputs": [
    {
     "name": "stdout",
     "output_type": "stream",
     "text": [
      "Gel pisi pisi pisi \n"
     ]
    }
   ],
   "source": [
    "# asagıdaki programın ekran çıktısı ne olur?\n",
    "print(\"Gel\", \"pisi \" * 3)"
   ]
  },
  {
   "cell_type": "markdown",
   "id": "4ef126e7-4334-4a04-9888-e4b023a4a82b",
   "metadata": {},
   "source": [
    "8. `=` ile `==` operatörleri arasındaki fark nedir?"
   ]
  },
  {
   "cell_type": "markdown",
   "id": "caf2c73e-2402-4529-944a-194e3f78db16",
   "metadata": {
    "tags": []
   },
   "source": [
    "`=` atama operatörü iken `==` sorgu operatörüdür."
   ]
  },
  {
   "cell_type": "markdown",
   "id": "40de92e0-b6ec-4e68-b6c4-e2f9bfeb16ea",
   "metadata": {},
   "source": [
    "9. raw format nedir?"
   ]
  },
  {
   "cell_type": "markdown",
   "id": "e43cb68c-6a97-4f3b-ad4f-222c14b74efb",
   "metadata": {
    "tags": []
   },
   "source": [
    "ham formattır"
   ]
  }
 ],
 "metadata": {
  "kernelspec": {
   "display_name": "Python 3 (ipykernel)",
   "language": "python",
   "name": "python3"
  },
  "language_info": {
   "codemirror_mode": {
    "name": "ipython",
    "version": 3
   },
   "file_extension": ".py",
   "mimetype": "text/x-python",
   "name": "python",
   "nbconvert_exporter": "python",
   "pygments_lexer": "ipython3",
   "version": "3.9.13"
  }
 },
 "nbformat": 4,
 "nbformat_minor": 5
}
