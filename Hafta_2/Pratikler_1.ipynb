{
 "cells": [
  {
   "cell_type": "markdown",
   "id": "2602fa80-b52a-4515-b34a-7e767ba28559",
   "metadata": {},
   "source": [
    "### print komutu\n",
    "1. print ile ismini konsola bastırmak.\n",
    "2. print ile ismini ve yaşını konsola bastırmak.\n",
    "3. print ile ismini ve yaşını konsola bastıran program. NOT: Yaş alt satıra bastırılsın.\n",
    "4. Kullanıcıdan isim bilgisi alan ve konsola bastıran programı kodlayınız.\n",
    "5. Kullanıcıdan isim ve yaş bilgisi alan ve konsola bastıran programı kodlayınız.\n",
    "6. Kullanıcıdan isim, yaş ve bölüm bilgisi alan ve değerler arasında \"-\" karakteri olacak şekilde konsola bastıran programı kodlayınız.\n",
    "7. Yatayda beş yıldız, dikeyde 3 yıldızı ekrana bastırınız. \n",
    "8. Türkiye'nin 5 ilini alt alta bastıran programı kodlayınız.\n",
    "9. İsminizin baş harflerini 100 kere konsola bastırınız.\n",
    "10. İsminizin baş harflerini 100 kere konsola dikey bir şekilde bastırınız."
   ]
  },
  {
   "cell_type": "code",
   "execution_count": null,
   "id": "c8ac94cb-9342-4d03-904a-0974021057f3",
   "metadata": {},
   "outputs": [],
   "source": [
    "# print ile ismini konsola bastırmak\n",
    "print(\"Enes Fehmi Manan\")"
   ]
  },
  {
   "cell_type": "code",
   "execution_count": null,
   "id": "babaee46-9f00-44bf-8549-99aba42c1e12",
   "metadata": {},
   "outputs": [],
   "source": [
    "# print ile ismini ve yaşını konsola bastırmak.\n",
    "print(\"Enes Fehmi Manan\", \"21\")"
   ]
  },
  {
   "cell_type": "code",
   "execution_count": null,
   "id": "e827f331-f8ad-4873-891a-6724435692f1",
   "metadata": {},
   "outputs": [],
   "source": [
    "#print ile ismini ve yaşını konsola bastıran program. Yaş bir alt satıra bastırılsın.\n",
    "print(\"Enes Fehmi Manan\", \"\\n21\")"
   ]
  },
  {
   "cell_type": "code",
   "execution_count": null,
   "id": "a6c093f0-ba09-4c87-829c-97b78fb7117f",
   "metadata": {},
   "outputs": [],
   "source": [
    "# Kullanıcıdan isim bilgisi alan ve konsola bastıran programı kodlayınız.\n",
    "isim = str(input(\"İsminizi giriniz: \"))\n",
    "print(\"İsminiz: \", isim)"
   ]
  },
  {
   "cell_type": "code",
   "execution_count": null,
   "id": "8ea26b04-bcf3-4aaf-9ee9-997fcfec1bf7",
   "metadata": {},
   "outputs": [],
   "source": [
    "#Kullanıcıdan isim ve yaş bilgisi alan ve konsola bastıran programı kodlayınız.\n",
    "isim = str(input(\"İsminizi giriniz: \"))\n",
    "yas = int(input(\"Yasınızı giriniz: \"))\n",
    "print(\"İsminiz: \", isim, \"\\nYaşınız: \", yas)"
   ]
  },
  {
   "cell_type": "code",
   "execution_count": null,
   "id": "320829aa-382b-4350-93c9-2e1b9436c43d",
   "metadata": {},
   "outputs": [],
   "source": [
    "# Kullanıcıdan isim, yaş ve bölüm bilgisi alan ve değerler arasında \"-\" karakteri olacak şekilde konsola bastıran programı kodlayınız.\n",
    "isim = str(input(\"İsminizi giriniz: \"))\n",
    "yas = int(input(\"Yasınızı giriniz: \"))\n",
    "bolum = str(input(\"Bölümünüzü giriniz: \"))\n",
    "print(isim, yas, bolum, sep = \"-\")"
   ]
  },
  {
   "cell_type": "code",
   "execution_count": null,
   "id": "9e2a3346-41d7-47b0-8977-4eb205114c87",
   "metadata": {},
   "outputs": [],
   "source": [
    "# Yatayda beş yıldız, dikeyde 3 yıldızı ekrana bastırınız.\n",
    "print(\"\"\"\n",
    "*****\n",
    "*****\n",
    "*****\n",
    "\"\"\")"
   ]
  },
  {
   "cell_type": "code",
   "execution_count": null,
   "id": "7f3df8ae-2a09-4373-9809-66ebfa6c594f",
   "metadata": {},
   "outputs": [],
   "source": [
    "# Türkiye'nin 5 ilini alt alta bastıran programı kodlayınız.\n",
    "print(\"Çorum\",\"\\nTekirdağ\", \"\\nİstanbul\", \"\\nSamsun\", \"\\nAydın\")"
   ]
  },
  {
   "cell_type": "code",
   "execution_count": null,
   "id": "727fbf0b-35ef-41bf-872a-3d8e9d13eef0",
   "metadata": {},
   "outputs": [],
   "source": [
    "# İsminizin baş harflerini 100 kere konsola bastırınız.\n",
    "print(\"EFM \" * 100)"
   ]
  },
  {
   "cell_type": "code",
   "execution_count": null,
   "id": "31357f23-7860-47db-a141-41ce9eb39725",
   "metadata": {},
   "outputs": [],
   "source": [
    "# İsminizin baş harflerini 100 kere konsola dikey bir şekilde bastırınız.\n",
    "print(\"\\nEFM \" * 100)"
   ]
  },
  {
   "cell_type": "markdown",
   "id": "935d9cea-6243-45fd-bc23-33c85404cfe1",
   "metadata": {
    "tags": []
   },
   "source": [
    "### Matematiksel Örnekler\n"
   ]
  },
  {
   "cell_type": "markdown",
   "id": "d3ea2d90-b272-4438-8d7f-c21627c32d8d",
   "metadata": {},
   "source": [
    "İşlem önceliği:\n",
    "1. Parantez içleri\n",
    "2. Üs alma işlemleri\n",
    "3. Çarpma ve bölme işlemleri\n",
    "4. Toplama ve çıkarma işlemleri\n"
   ]
  },
  {
   "cell_type": "markdown",
   "id": "61cf6e18-8815-4fb5-a88e-f0e5f3f96f76",
   "metadata": {},
   "source": [
    "#### İki sayı arasında temel matematiksel işlemler\n",
    "Problem açıklaması: Klavyeden okunan iki sayının toplamını, farkını, çarpımını ve ilk sayının ikinci sayiya olan bölümünü hesaplayan program."
   ]
  },
  {
   "cell_type": "code",
   "execution_count": null,
   "id": "52c94caf-67d8-4549-acd0-d122f2655326",
   "metadata": {
    "tags": []
   },
   "outputs": [],
   "source": [
    "print(\"İki sayi giriniz:\")\n",
    "sayi1 = float(input(\"İlk sayiyi giriniz:\"))\n",
    "sayi2 = float(input(\"İkinci sayiyi giriniz:\"))\n",
    "T = sayi1+sayi2 \n",
    "F = sayi1-sayi2\n",
    "C = sayi1*sayi2\n",
    "B = sayi1/sayi2\n",
    "print(\"Toplam = \", T , \"\\nFark = \", F , \"\\nCarpım = \" , C , \"\\nBolum = \" , B)"
   ]
  },
  {
   "cell_type": "markdown",
   "id": "5a69f3de-d047-4fc7-b417-8ab845107ecc",
   "metadata": {},
   "source": [
    "#### Girilen sayının karesini hesaplayan program\n",
    "Problem açıklaması: Klavyeden girilen sayının karesini hesaplayan ve ekrana bastıran programı kodlayınız."
   ]
  },
  {
   "cell_type": "code",
   "execution_count": null,
   "id": "99a34358-8b56-4931-b6a7-1414a3a7ee90",
   "metadata": {
    "tags": []
   },
   "outputs": [],
   "source": [
    "sayi = float(input(\"Karesi hesaplanacak sayiyi giriniz: \"))\n",
    "sayi = sayi*sayi\n",
    "print(\"Girilen sayinin karesi: \", sayi)"
   ]
  },
  {
   "cell_type": "markdown",
   "id": "af93cebd-4a75-45c2-bfe9-e3f599900c09",
   "metadata": {},
   "source": [
    "#### Klavyeden girilen sayıyı ve üssü hesaplayan program\n",
    "Problem açıklaması: Klaveden girilen üsse göre sayıyı hesaplayan programı kodlayınız.\n",
    "\n",
    "Not: Konsola sayıyı, üssünü ve sonucunu alt alta bastırınız."
   ]
  },
  {
   "cell_type": "code",
   "execution_count": null,
   "id": "7c8c4fa8-096e-4ff6-b368-f403448eb7ab",
   "metadata": {
    "tags": []
   },
   "outputs": [],
   "source": [
    "sayi = float(input(\"Üssü hesaplanacak sayiyi giriniz: \"))\n",
    "us = int(input(\"Sayının üssünü giriniz: \"))\n",
    "sonuc = sayi**us\n",
    "print(\"\"\"\n",
    "Sayi {}:\n",
    "Üssü {}:\n",
    "Sonuç: {}\"\"\".format(sayi,us,sonuc))"
   ]
  },
  {
   "cell_type": "markdown",
   "id": "8f6e941e-80da-4a7a-81ae-b8c762f45fd4",
   "metadata": {},
   "source": [
    "#### Klavyeden girilen iki sayının ortalamasını bulan program\n",
    "Problem açıklaması: Klavyeden girilen iki sayının aritmetik ortalamasını hesaplayan ve sonucu ekrana bastıran program."
   ]
  },
  {
   "cell_type": "code",
   "execution_count": null,
   "id": "edf3790f-1db3-4da1-85f5-d56e659638f5",
   "metadata": {
    "tags": []
   },
   "outputs": [],
   "source": [
    "sayi1 = float(input(\"1. sayiyi giriniz: \"))\n",
    "sayi2 = float(input(\"2. sayiyi giriniz: \"))\n",
    "ortalama = (sayi1+sayi2)/2\n",
    "print(\"Aritmetik ortalama: \", ortalama)"
   ]
  },
  {
   "cell_type": "markdown",
   "id": "a4a1024d-6aba-4446-8b0c-923b6f5c1f87",
   "metadata": {},
   "source": [
    "#### Klavyeden girilen vize ve final notunun ortalamasını hesaplayan program\n",
    "Problem açıklaması: Klavyeden girilen vize ve final notunun katsayılarına göre hesaplayan ve ekrana bastıran program.\n",
    "\n",
    "Katsayılar: vizenin %40 finalin %60\n",
    "\n",
    "Not: Konsola vize final notlarını da alt alta bastırınız."
   ]
  },
  {
   "cell_type": "code",
   "execution_count": null,
   "id": "6a1874e2-fc0c-4398-bcdb-c23c68db292e",
   "metadata": {
    "tags": []
   },
   "outputs": [],
   "source": [
    "vize = int(input(\"Vize notunuzu giriniz: \"))\n",
    "final =int(input(\"Final notunuzu giriniz: \"))\n",
    "ortalama = (vize*0.40)+(final*0.60)\n",
    "print(\"\"\"\n",
    "Vize notunuz:{}\n",
    "Final notunuz: {}\n",
    "Ortalamanız: {}\"\"\".format(vize,final,ortalama))"
   ]
  },
  {
   "cell_type": "markdown",
   "id": "2c7a0772-452b-4332-abb5-c3f1ad391342",
   "metadata": {},
   "source": [
    "#### Karenin çevresini ve alanını hesaplayan program\n",
    "Problem açıklaması: Klavyeden bir kenarı okunan karenin çevresini ve alanını hesaplayıp ekrana yazdıran program."
   ]
  },
  {
   "cell_type": "code",
   "execution_count": null,
   "id": "cdc0fefd-cd8b-480c-b1be-9aedac0f8f8c",
   "metadata": {
    "tags": []
   },
   "outputs": [],
   "source": [
    "# Karenin bir kenari u ise:\n",
    "# Cevre = 4.u\n",
    "# Alan = u^2\n",
    "u = float(input(\"Karenin bir kenarini giriniz:\"))\n",
    "a = u**2\n",
    "c = u*4\n",
    "print(\"Alan = \", a , \"\\nCevre = \", c)"
   ]
  },
  {
   "cell_type": "markdown",
   "id": "08ab9b4e-223f-4e9b-a8a3-61fd26309078",
   "metadata": {},
   "source": [
    "#### Dikdörtgenin çevresini ve alanını hesaplayan program\n",
    "Problem açıklaması: Klavyeden iki kenarı okunan dikdörtgenin çevresini ve alanını hesaplayıp, ekrana yazdıran program."
   ]
  },
  {
   "cell_type": "code",
   "execution_count": null,
   "id": "b2e3ed14-be11-45d3-b391-7827da164f60",
   "metadata": {
    "tags": []
   },
   "outputs": [],
   "source": [
    "# Dikdortgenin birbirinden farkli iki adet uzunlugu vardir. Bunlar k1 ve k2 ise:\n",
    "# Alan = k1.k2\n",
    "# Cevre = 2(k1+k2)\n",
    "k1 = float(input(\"Dikdortgenin uzunlugunu giriniz:\"))\n",
    "k2 = float(input(\"Dikdortgenin genisligini giriniz:\"))\n",
    "a = k1*k2\n",
    "c = 2*(k1+k2)\n",
    "print(\"Alan = \", a , \"\\nCevre= \", c)"
   ]
  },
  {
   "cell_type": "markdown",
   "id": "2ca000bc-1f2f-41b4-8e52-c1c43f14b749",
   "metadata": {},
   "source": [
    "#### Kürenin alanını ve hacmini hesaplama\n",
    "Problem açıklaması:Klavyeden yarıçap uzunluğu girilen kürenin alanını ve hacmini hesaplayıp, ekrana yazıdran program.\n",
    "\n",
    "Kürenin alanı: $4.π.r^2$\n",
    "\n",
    "Kürenin hacmi: $4/3.π.r^3$"
   ]
  },
  {
   "cell_type": "code",
   "execution_count": null,
   "id": "6dcb7443-d6c3-4118-831d-69ba7f25ae68",
   "metadata": {
    "tags": []
   },
   "outputs": [],
   "source": [
    "PI = 3.14\n",
    "r = float(input(\"Kurenin yaricapini(r) giriniz:\"))\n",
    "a = 4*PI*r**2\n",
    "h = (4/3)*PI*r**3\n",
    "print(\"Alan = \", a , \"\\nHacım = \", h)"
   ]
  },
  {
   "cell_type": "markdown",
   "id": "68be1ca0-8590-4c60-b7c9-6ca825fe8e16",
   "metadata": {},
   "source": [
    "#### Kilometre cinsinden bir uzunluğu mile çevirmek\n",
    "Problem açıklaması: Klavyeden birimi kilometre olarak girilen bir uzunluğu mil birimine çevirip, ekrana yazdıran program.\n",
    "\n",
    "Kilometreden mile donusum formulu: Mil= $0,621xkm$"
   ]
  },
  {
   "cell_type": "code",
   "execution_count": null,
   "id": "b93c8920-c28e-4ce2-989d-45870556f029",
   "metadata": {
    "tags": []
   },
   "outputs": [],
   "source": [
    "x = float(input(\"Kilometre cinsinden uzunlugu(x) giriniz:\"))\n",
    "mil = (0.621)*x\n",
    "print(\"Mil = \", mil)"
   ]
  },
  {
   "cell_type": "markdown",
   "id": "fa46ea3a-3f51-4c98-ae3d-2759410e5720",
   "metadata": {},
   "source": [
    "#### Taban ve yüksekliği bilinen bir üçgenin alanını hesaplama\n",
    "Problem açıklaması: Klavyeden taban ve yüksekliği girilen bir üçgenin alanını hesaplayan ve ekrana yazdıran program.\n",
    "\n",
    "Taban uzunlugu $u$ ve yuksekligi $h$ olan bir ucgen icin formul: Alan = $(uxh)/2$"
   ]
  },
  {
   "cell_type": "code",
   "execution_count": null,
   "id": "e579bd60-48ac-4fdf-85e0-0fc942cf1293",
   "metadata": {
    "tags": []
   },
   "outputs": [],
   "source": [
    "u = float(input(\"Ucgenin taban uzunlugunu (u) giriniz:\"))\n",
    "h = float(input(\"Ucgenin yukseklıgını (h) giriniz:\"))\n",
    "Alan = (u*h)/2\n",
    "print(\"Alan = \", Alan)"
   ]
  },
  {
   "cell_type": "markdown",
   "id": "0b171483-caac-4523-af94-1f78d1eea48b",
   "metadata": {},
   "source": [
    "### len fonksiyonu"
   ]
  },
  {
   "cell_type": "markdown",
   "id": "002524ed-0929-460a-bfcf-612e893839c9",
   "metadata": {},
   "source": [
    "#### Python'da kaç tane yasaklı kelime olduğunu bulan programı yazınız."
   ]
  },
  {
   "cell_type": "code",
   "execution_count": null,
   "id": "84f2b962-613b-43b8-a119-ac1bd0041f6d",
   "metadata": {
    "tags": []
   },
   "outputs": [],
   "source": [
    "import keyword\n",
    "yasaklı_kelimeler = keyword.kwlist\n",
    "print(len(yasaklı_kelimeler))"
   ]
  },
  {
   "cell_type": "markdown",
   "id": "dfc1e865-fb21-4c5b-b971-fe924d92606b",
   "metadata": {},
   "source": [
    "#### Bir sayının kaç basamaklı olduğunu bulan program\n",
    "Problem açıklaması: Klavyeden girilen sayının kaç basamaklı olduğunu len methodu ile hesaplayan programı kodlayınız."
   ]
  },
  {
   "cell_type": "code",
   "execution_count": null,
   "id": "a09cba67-c2b9-4707-8e32-02e646b2c787",
   "metadata": {
    "tags": []
   },
   "outputs": [],
   "source": [
    "sayi = int(input(\"Bir sayı giriniz:\"))\n",
    "sayi = str(sayi)\n",
    "\n",
    "basamak_sayisi = len(sayi)\n",
    "\n",
    "print(\"\\nBasamak Sayısı : \" + str(basamak_sayisi))"
   ]
  },
  {
   "cell_type": "markdown",
   "id": "5a6f5681-fc06-4f08-a1e1-eb0f15619ba3",
   "metadata": {},
   "source": [
    "#### İsmin uzunluğunu bulan program"
   ]
  },
  {
   "cell_type": "code",
   "execution_count": null,
   "id": "9a9cdda4-4822-42ac-9867-7c6cd4b17b65",
   "metadata": {
    "tags": []
   },
   "outputs": [],
   "source": [
    "isim = str(input(\"İsminizi giriniz: \"))\n",
    "uzunluk = len(isim)\n",
    "print(\"isminizin uzunluğu {} harftir.\".format(uzunluk))"
   ]
  },
  {
   "cell_type": "markdown",
   "id": "60636724-0b5a-4000-8dbd-9e5ada93c11e",
   "metadata": {},
   "source": [
    "#### Yukarıdaki program girilen isimdeki boşluklarıda dahil ederek sayıyor, bu sorunu count metodu ile çözebiliriz."
   ]
  },
  {
   "cell_type": "code",
   "execution_count": null,
   "id": "1684ed2d-1854-4216-8954-420720497061",
   "metadata": {
    "tags": []
   },
   "outputs": [],
   "source": [
    "isim = str(input(\"İsminizi giriniz: \"))\n",
    "bos = isim.count(\" \") # isim değişkeninin içine girilen metindeki boşlukları saydırdık\n",
    "uzunluk = len(isim)\n",
    "cevrim = (int(uzunluk)-bos) # uzunluk değişkenini int e çevirdik çünkü çıkartmak işlemi gerçekleştireceğiz. \n",
    "print(\"isminizin uzunluğu {} harftir.\".format(cevrim))"
   ]
  }
 ],
 "metadata": {
  "kernelspec": {
   "display_name": "Python 3 (ipykernel)",
   "language": "python",
   "name": "python3"
  },
  "language_info": {
   "codemirror_mode": {
    "name": "ipython",
    "version": 3
   },
   "file_extension": ".py",
   "mimetype": "text/x-python",
   "name": "python",
   "nbconvert_exporter": "python",
   "pygments_lexer": "ipython3",
   "version": "3.9.13"
  }
 },
 "nbformat": 4,
 "nbformat_minor": 5
}
