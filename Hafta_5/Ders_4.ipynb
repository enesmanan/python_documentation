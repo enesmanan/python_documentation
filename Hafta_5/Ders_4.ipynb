{
 "cells": [
  {
   "cell_type": "markdown",
   "id": "e5e84825-a068-4652-bf66-8577d641ee5f",
   "metadata": {},
   "source": [
    "### KOLEKSİYON YAPIRLARI\n",
    "Koleksiyonlar, çok sayıda değişkeni bir arada tutup organize eden; bu değişkenlere tek bir isimle yalnız sıra numaralarını değiştirerek, kolaylıkla erişmeye imkan sağlayan yapılardır.\n"
   ]
  },
  {
   "cell_type": "markdown",
   "id": "8e4762a2-a9be-463b-80ef-3e37c9a63825",
   "metadata": {},
   "source": [
    "### Listeler (list)\n",
    "`liste = [\"öğe1\", \"öğe2\", \"öğe3\"]`\n",
    "+ Değiştirilebilirler\n",
    "+ Kapsayıcıdırlar (farklı tipte veriler bulundurabilir)\n",
    "+ Sıralıdırlar (index ile elamanlarına erişilebilir)"
   ]
  },
  {
   "cell_type": "code",
   "execution_count": null,
   "id": "5c35b37d-7b94-45fd-9653-b8db925456d1",
   "metadata": {},
   "outputs": [],
   "source": [
    "liste1 = [\"elma\",\"ayva\",\"armut\"] # string listesi\n",
    "liste2 = [21, \"Ağaç\", 14.43, True] # farklı tipte elemanlardan oluşan bir liste"
   ]
  },
  {
   "cell_type": "code",
   "execution_count": 12,
   "id": "c7db61c2-fe24-4aeb-96d3-5f3f1ca08516",
   "metadata": {},
   "outputs": [
    {
     "data": {
      "text/plain": [
       "[23, 'kitap', 12.9, 'anahtar', 'ananas', 11, 123]"
      ]
     },
     "execution_count": 12,
     "metadata": {},
     "output_type": "execute_result"
    }
   ],
   "source": [
    "# liste elemanlarına erişim: liste[index]\n",
    "liste = [23,\"kitap\",12.9,\"anahtar\",\"ananas\",11]\n",
    "liste.append(123)\n",
    "liste"
   ]
  },
  {
   "cell_type": "markdown",
   "id": "2494250e-7203-46f3-9785-9451151a5908",
   "metadata": {},
   "source": [
    "#### Alıştırma:\n",
    "1. Listenin ilk elemanına erişiniz.\n",
    "2. Listenin dördüncü elemanına erişiniz.\n",
    "3. Listenin son elemanına erişiniz.\n",
    "4. Listenin eleman sayısını bulunuz.\n",
    "5. Listenin sonuna 123 sayısını ekleyiniz."
   ]
  },
  {
   "cell_type": "code",
   "execution_count": null,
   "id": "6c404452-b419-4716-9ac9-720b3bf5f039",
   "metadata": {},
   "outputs": [],
   "source": [
    "# Bir listedeki elemanlara index ile erişmek\n",
    "liste = [23,\"kitap\",12.9,\"anahtar\",\"ananas\"]\n",
    "for deger in range(0,len(liste)):\n",
    "    print(liste[deger])"
   ]
  },
  {
   "cell_type": "code",
   "execution_count": null,
   "id": "9ab433df-5db2-49f6-a0f8-675b1c543b86",
   "metadata": {},
   "outputs": [],
   "source": [
    "liste = [23,\"kitap\",12.9,\"anahtar\",\"ananas\"]\n",
    "for i in liste:\n",
    "    print(i)"
   ]
  },
  {
   "cell_type": "code",
   "execution_count": 1,
   "id": "c803db01-edf0-4ebf-a1d7-ce2911414f1c",
   "metadata": {},
   "outputs": [
    {
     "data": {
      "text/plain": [
       "[23, 12.9, 'ananas']"
      ]
     },
     "execution_count": 1,
     "metadata": {},
     "output_type": "execute_result"
    }
   ],
   "source": [
    "# liste parçalama liste[başlangıç:bitiş:artış]\n",
    "liste = [23,\"kitap\",12.9,\"anahtar\",\"ananas\"]\n",
    "liste[0:5:2] # 0'dan 5'e kadar ikişer ikişer"
   ]
  },
  {
   "cell_type": "code",
   "execution_count": 2,
   "id": "a62d6a71-52ca-4aea-b9ae-3696488616bf",
   "metadata": {},
   "outputs": [
    {
     "name": "stdout",
     "output_type": "stream",
     "text": [
      "[23, 'book', 12.9, 'anahtar', 'ananas']\n"
     ]
    }
   ],
   "source": [
    "# liste elemanlarını değiştrime liste[index] = yeni_eleman\n",
    "liste = [23,\"kitap\",12.9,\"anahtar\",\"ananas\"]\n",
    "liste[1] = \"book\"\n",
    "print(liste)"
   ]
  },
  {
   "cell_type": "code",
   "execution_count": 3,
   "id": "295b044a-b473-4295-ad02-eabbfd72e224",
   "metadata": {},
   "outputs": [
    {
     "name": "stdout",
     "output_type": "stream",
     "text": [
      "[1, 2, 3, 4, 5, 6]\n"
     ]
    }
   ],
   "source": [
    "# liste birliştirme birleşmiş_liste = liste1 + liste2\n",
    "sayilar1 = [1,2,3]\n",
    "sayilar2 = [4,5,6]\n",
    "top_liste = sayilar1 + sayilar2\n",
    "print(top_liste)"
   ]
  },
  {
   "cell_type": "code",
   "execution_count": 4,
   "id": "d251c65c-52f1-4f4f-8ce3-b186c5ac5afd",
   "metadata": {},
   "outputs": [
    {
     "name": "stdout",
     "output_type": "stream",
     "text": [
      "[10, 20, 30, 50, '--', 10, 20, 30, 50, '--', 10, 20, 30, 50, '--']\n"
     ]
    }
   ],
   "source": [
    "# liste çoğaltma\n",
    "liste = [10,20,30,50,\"--\"]\n",
    "print(liste*3)"
   ]
  },
  {
   "cell_type": "code",
   "execution_count": 6,
   "id": "d385dc38-67ec-4a4d-aa61-fafb7c1ef211",
   "metadata": {},
   "outputs": [
    {
     "name": "stdout",
     "output_type": "stream",
     "text": [
      "[1, 2, 3, 4, 5]\n"
     ]
    }
   ],
   "source": [
    "# listeye eleman ekleme\n",
    "# liste.append(eleman) listenin sonuna ekler\n",
    "# liste.insert(index,eleman) belirlenen index'ine ekler\n",
    "liste = [1,2,3,4]\n",
    "liste.insert(4,5)\n",
    "print(liste)"
   ]
  },
  {
   "cell_type": "code",
   "execution_count": 7,
   "id": "0d26d701-bb27-4050-8eb1-3985fb99f8e9",
   "metadata": {},
   "outputs": [
    {
     "data": {
      "text/plain": [
       "[10, 20, 30, 50]"
      ]
     },
     "execution_count": 7,
     "metadata": {},
     "output_type": "execute_result"
    }
   ],
   "source": [
    "# listeden eleman çıkarmak: liste.remove(eleman)\n",
    "liste = [10,20,30,50,\"--\"]\n",
    "liste.remove(\"--\")\n",
    "liste"
   ]
  },
  {
   "cell_type": "code",
   "execution_count": 8,
   "id": "82aecf9d-b479-4938-938c-f30e60cb2308",
   "metadata": {},
   "outputs": [
    {
     "data": {
      "text/plain": [
       "[]"
      ]
     },
     "execution_count": 8,
     "metadata": {},
     "output_type": "execute_result"
    }
   ],
   "source": [
    "# listenin elemanlarını silmek: liste.clear()\n",
    "liste = [10,20,30,50,\"--\"]\n",
    "liste.clear()\n",
    "liste"
   ]
  },
  {
   "cell_type": "code",
   "execution_count": null,
   "id": "c9338228-323e-4e0e-a6bd-db9cbf03cfed",
   "metadata": {},
   "outputs": [],
   "source": [
    "# bir listeyi tamamen silmek: del liste\n",
    "liste = [10,20,30,50,\"--\"]\n",
    "del liste \n",
    "liste # liste silindikten sonra çağrıldığı için bu kod bloğu çalıştırıldığında hata alınacaktır"
   ]
  },
  {
   "cell_type": "code",
   "execution_count": 9,
   "id": "70c1bd2b-786d-4f9b-9a7d-888d7a8da205",
   "metadata": {},
   "outputs": [
    {
     "data": {
      "text/plain": [
       "True"
      ]
     },
     "execution_count": 9,
     "metadata": {},
     "output_type": "execute_result"
    }
   ],
   "source": [
    "# listede  bir elemanın varlığını kontrol etme: eleman in liste\n",
    "liste = [10,20,30,50,\"--\"]\n",
    "50 in liste"
   ]
  },
  {
   "cell_type": "markdown",
   "id": "b3a7fcce-a0ba-4785-890f-cb3846617b25",
   "metadata": {},
   "source": [
    "#### Alıştırma2:\n",
    "1. Sayılardan oluşan bir liste oluşturun \n",
    "2. Listenin 3. indisine 777 sayısını ekleyin\n",
    "3. Eklediğiniz 777 sayısını listeden çıkarın\n",
    "4. 5 sayısının listenizde olup olmadığını kontrol edin\n",
    "5. Listedeki elemanları silin\n",
    "6. Listeyi tamamen silin\n",
    "7. `l = [2,5,3,1,7,6,4,8,9]` listesini büyükten küçüge sıralayınız.\n",
    "8. Yukarıda sıralanan listeyi tersine döndürünüz"
   ]
  },
  {
   "cell_type": "markdown",
   "id": "19d41034-feab-43a9-a333-03d49175aec9",
   "metadata": {},
   "source": [
    "### Demetler (tuple)\n",
    "`demet = (öğe1, öğe2, öğe3)`\n",
    "+ Kapsayıcıdırlar (farklı tipte verileri tutabilir)\n",
    "+ Sıralıdır (index ile elemanlarına erişilebilir)\n",
    "+ Değiştirilemezler\n",
    "+ Listelere göre daha hızlı çalışırlar\n",
    "\n",
    "Demetler sadece okunabilir listelerdir."
   ]
  },
  {
   "cell_type": "code",
   "execution_count": 31,
   "id": "4d62b773-fd89-4d42-af91-0ea5dbe1999e",
   "metadata": {},
   "outputs": [
    {
     "data": {
      "text/plain": [
       "2"
      ]
     },
     "execution_count": 31,
     "metadata": {},
     "output_type": "execute_result"
    }
   ],
   "source": [
    "demet1 = (\"elma\",\"ayva\",\"armut\") # string demeti\n",
    "demet2 = (1,2,3,4) # integer demeti\n",
    "demet3 = (21, \"Ağaç\", 14.43, True) # farklı tipte elemanlardan oluşan bir tuple\n",
    "demet1.index(\"armut\") # demet1'deki armutun indisini bize veren kod "
   ]
  },
  {
   "cell_type": "markdown",
   "id": "90bf7998-da22-4642-b814-511646d24803",
   "metadata": {},
   "source": [
    "+ Demetleri listelerden ayıran özelliği değiştirilemez oluşudur. Dolayısıyla bir demete eleman ekleyemez veya çıkaramazsınız."
   ]
  },
  {
   "cell_type": "markdown",
   "id": "8d9a39fb-56b4-4ab9-b377-908ec6aa7857",
   "metadata": {},
   "source": [
    "### Sözlükler (dictionary)\n",
    "`sözlük = {anahtar1:değer1, anahtar2:değer2, anahtar3:değer3}`\n",
    "+ key-value ilişkisi vardır\n",
    "+ Kapsayıcıdırlar\n",
    "+ Sırasızdır (index işlemi ile elemanlarına erişilemez)\n",
    "+ Değiştirilebilirdir\n"
   ]
  },
  {
   "cell_type": "code",
   "execution_count": 11,
   "id": "50551762-7279-459f-b53f-124d249d9f48",
   "metadata": {},
   "outputs": [
    {
     "data": {
      "text/plain": [
       "'Manan'"
      ]
     },
     "execution_count": 11,
     "metadata": {},
     "output_type": "execute_result"
    }
   ],
   "source": [
    "# isim soy isim sözlüğü\n",
    "isimler = {\"Enes Fehmi\":\"Manan\"}\n",
    "isimler[\"Enes Fehmi\"]"
   ]
  },
  {
   "cell_type": "code",
   "execution_count": 12,
   "id": "cdfa4c78-1240-416e-ac8b-2dfb7aea4280",
   "metadata": {},
   "outputs": [
    {
     "data": {
      "text/plain": [
       "'Manan'"
      ]
     },
     "execution_count": 12,
     "metadata": {},
     "output_type": "execute_result"
    }
   ],
   "source": [
    "# bir değere erişmek: sözlük.get(anahtar)\n",
    "isimler = {\"Enes Fehmi\":\"Manan\"}\n",
    "isimler.get(\"Enes Fehmi\")"
   ]
  },
  {
   "cell_type": "code",
   "execution_count": 13,
   "id": "2cb9e4cd-d498-4c6f-8733-bbebf0082e42",
   "metadata": {},
   "outputs": [],
   "source": [
    "sözlük = {\"kitap\"      : \"book\",\n",
    "          \"bilgisayar\" : \"computer\",\n",
    "          \"programlama\": \"programming\",\n",
    "          \"dil\"        : \"language\",\n",
    "          \"defter\"     : \"notebook\"}"
   ]
  },
  {
   "cell_type": "code",
   "execution_count": 14,
   "id": "ade5d956-b968-45b1-b51d-da78bf21ca4f",
   "metadata": {},
   "outputs": [
    {
     "data": {
      "text/plain": [
       "{'kitap': 'book',\n",
       " 'bilgisayar': 'computer',\n",
       " 'programlama': 'programming',\n",
       " 'dil': 'language',\n",
       " 'defter': 'notebook',\n",
       " 'masa': 'desk'}"
      ]
     },
     "execution_count": 14,
     "metadata": {},
     "output_type": "execute_result"
    }
   ],
   "source": [
    "# sözlüğe eleaman ekleme: sozluk[anahtar] = değer\n",
    "sözlük[\"masa\"] = \"desk\" \n",
    "sözlük"
   ]
  },
  {
   "cell_type": "code",
   "execution_count": null,
   "id": "44a3ce4e-ee10-4663-b9c0-cecea414babd",
   "metadata": {},
   "outputs": [],
   "source": [
    "# ingilizce türkçe günler sözlüğü uygulaması\n",
    "ara = str(input(\"Türkçe gün adı giriniz :\"))\n",
    "\n",
    "sozluk = {\"pazartesi\": \"Monday\",\n",
    "          \"salı\": \"Tuesday\",\n",
    "          \"çarşamba\": \"Wednesday\",\n",
    "          \"perşembe\": \"Thursday\",\n",
    "          \"cuma\": \"Friday\",\n",
    "          \"cumartesi\": \"Saturday\",\n",
    "          \"pazar\": \"Sunday\"}\n",
    "\n",
    "print(\"İngilizcesi:\", sozluk.get(ara, \"Bu kelime sözlükte yoktur!\"), end = \" \")"
   ]
  },
  {
   "cell_type": "markdown",
   "id": "611dd7c1-3262-433d-bd9b-29c9518f888b",
   "metadata": {},
   "source": [
    "### Kümeler (set)\n",
    "`küme = {öğe1, öğe2, öğe3}`\n",
    "+ Sırasızdır\n",
    "+ Değerleri eşsizdir\n",
    "+ Değiştirilebilirdir\n",
    "+ Farklı tipleri barındırabilir\n",
    "\n",
    "Performans odaklı bir veri yapısıdır.\n",
    "\n",
    "Her eleman sadece bir kez bulunabilir, tekrar aynısını eklesen bile bir kez gözükür."
   ]
  },
  {
   "cell_type": "code",
   "execution_count": 15,
   "id": "5986dc95-5bcb-47e3-b2e2-346175022967",
   "metadata": {},
   "outputs": [
    {
     "data": {
      "text/plain": [
       "{1, 2, 3, 4}"
      ]
     },
     "execution_count": 15,
     "metadata": {},
     "output_type": "execute_result"
    }
   ],
   "source": [
    "# kümeye eleman ekleme\n",
    "kume = {1,2,3}\n",
    "kume.add(4)\n",
    "kume.add(4) # 4 rakamı tekrar eklense bile ekran çıktısında 1 kez gözükecektir\n",
    "kume"
   ]
  },
  {
   "cell_type": "markdown",
   "id": "17fe13cd-9143-457c-82e3-8afe01fba67d",
   "metadata": {},
   "source": [
    "##### `küme.difference()` ile iki kümenin farkını \n",
    "##### `küme.intersection()` iki küme kesişimi \n",
    "##### `küme.union()` iki kümenin birleşimi\n",
    "##### `küme.symmetric_difference()` ikisinde de olmayanları"
   ]
  },
  {
   "cell_type": "markdown",
   "id": "6b7ad7aa-f611-4969-a860-e30fb23af70f",
   "metadata": {},
   "source": [
    "### Fonksiyonlar\n",
    "`def fonksiyon_ismi(parametreleri):`\n",
    "\n",
    "    `kodlar`\n",
    "\n",
    "Fonksiyonlar bir program içerisinde yer alan alt program parçalarıdır."
   ]
  },
  {
   "cell_type": "code",
   "execution_count": 16,
   "id": "3fb43dbf-ea6f-4940-bfef-673bb28be3ea",
   "metadata": {},
   "outputs": [
    {
     "name": "stdout",
     "output_type": "stream",
     "text": [
      "Enes Fehmi Manan\n"
     ]
    }
   ],
   "source": [
    "# isminizi çağıran fonksiyon örneği\n",
    "def isim():\n",
    "    print(\"Enes Fehmi Manan\")\n",
    "isim() # fonksiyonu çağırdık"
   ]
  },
  {
   "cell_type": "code",
   "execution_count": 18,
   "id": "9197248c-bb45-4c36-aad3-5ea4dcff5861",
   "metadata": {},
   "outputs": [
    {
     "name": "stdout",
     "output_type": "stream",
     "text": [
      "Adınız:  Enes Fehmi \n",
      "Soyadınız:  Manan\n"
     ]
    }
   ],
   "source": [
    "# İsim ve soyadı alan ve ekrana döndüren fonksiyon\n",
    "def isim(ad, soyad):\n",
    "      print(\"Adınız: \", ad, \"\\nSoyadınız: \", soyad)\n",
    "\n",
    "isim(\"Enes Fehmi\",\"Manan\")"
   ]
  },
  {
   "cell_type": "code",
   "execution_count": 19,
   "id": "f3d65bc3-0f1e-4d9c-8c5f-675a5f5bf3ef",
   "metadata": {},
   "outputs": [
    {
     "name": "stdout",
     "output_type": "stream",
     "text": [
      "Adınız:  Enes Fehmi \n",
      "Soyadınız:  Manan\n"
     ]
    }
   ],
   "source": [
    "# varsayılan parametre belirlemek\n",
    "def isim(ad, soyad = \"Manan\"):\n",
    "    print(\"Adınız: \", ad, \"\\nSoyadınız: \", soyad)\n",
    "isim(\"Enes Fehmi\") # soyad parametresini girmezesem bile hata vermeyecektir çünkü varsayılan olarak değeri 'Manan' olarak atanmış durumda"
   ]
  },
  {
   "cell_type": "markdown",
   "id": "7c487a1b-54b2-4f91-a55d-81501d2ed9aa",
   "metadata": {},
   "source": [
    "### return ifadesi\n",
    "+ Geriye değer döndürmek için kullanılır\n",
    "+ return ifadesinden sonraki kodlar çalışmaz\n"
   ]
  },
  {
   "cell_type": "code",
   "execution_count": 20,
   "id": "ba522b55-15d2-4d53-86b9-7c9545bab89a",
   "metadata": {},
   "outputs": [
    {
     "data": {
      "text/plain": [
       "(5, 6)"
      ]
     },
     "execution_count": 20,
     "metadata": {},
     "output_type": "execute_result"
    }
   ],
   "source": [
    "def topla(sayi1,sayi2):\n",
    "    toplam = sayi1 + sayi2\n",
    "    carpım = sayi1 * sayi2\n",
    "    return toplam, carpım\n",
    "topla(2,3)"
   ]
  },
  {
   "cell_type": "markdown",
   "id": "7ad11752-1432-46a2-b137-ed181f0d7ede",
   "metadata": {},
   "source": [
    "Fonksiyonlar ürettikleri sonuçları kendi içlerinde kullanıp dışarıya aktarmıyorlarsa **geri değer döndürmeyen** fonksiyon,  ürettikleri sonuçları `return` ile dışarı aktarıyorlarsa **geriye değer döndüren** fonksiyon denir."
   ]
  },
  {
   "cell_type": "markdown",
   "id": "d9344246-7623-4518-92af-8d227152733f",
   "metadata": {},
   "source": [
    "#### Recursive (özyineli) Fonksiyonlar\n",
    "Kendi kendini çağıran fonksiyonlara recursive fonksiyonlar denir."
   ]
  },
  {
   "cell_type": "code",
   "execution_count": null,
   "id": "29b47d5e-89eb-4f7a-808e-0152c1a811d8",
   "metadata": {},
   "outputs": [],
   "source": [
    "# Döngü ile faktöriyel hesaplayan fonksiyon\n",
    "def faktoriyel1(n):\n",
    "    f = 1\n",
    "    for i in range(n,0,-1):\n",
    "        f = f * i\n",
    "    return f\n",
    "\n",
    "n = int(input(\"Faktöriyeli alınacak sayı giriniz: \"))\n",
    "faktoriyel1(n)"
   ]
  },
  {
   "cell_type": "code",
   "execution_count": null,
   "id": "9910469e-2e60-4117-9f56-671af0902494",
   "metadata": {},
   "outputs": [],
   "source": [
    "# Recursive bir şekilde faktöriyel hesaplayan fonksiyon\n",
    "def faktoriyel2(n):  \n",
    "    if n == 1:  \n",
    "        return n  \n",
    "    else:  \n",
    "        return n*faktoriyel2(n-1)\n",
    "n = int(input(\"Faktöriyeli alınacak sayı giriniz: \"))\n",
    "faktoriyel2(n)"
   ]
  },
  {
   "cell_type": "markdown",
   "id": "edbfee73-556c-4783-adc9-f05363947d1e",
   "metadata": {},
   "source": [
    "### Python kodunu çalıştırılabilir dosya haline getirmek .exe yapmak\n",
    "+ 1.Adım: `pip install pyinstaller`\n",
    "+ 2.Adım: `.py` uzantlı dosyanın olduğu klasörde terminali (cmd) açın\n",
    "+ 3.Adım: `pyinstaller --onefile program_ismi.py` komutu ile exe dosyasını oluşturun"
   ]
  }
 ],
 "metadata": {
  "kernelspec": {
   "display_name": "Python 3 (ipykernel)",
   "language": "python",
   "name": "python3"
  },
  "language_info": {
   "codemirror_mode": {
    "name": "ipython",
    "version": 3
   },
   "file_extension": ".py",
   "mimetype": "text/x-python",
   "name": "python",
   "nbconvert_exporter": "python",
   "pygments_lexer": "ipython3",
   "version": "3.9.13"
  }
 },
 "nbformat": 4,
 "nbformat_minor": 5
}
